{
  "nbformat": 4,
  "nbformat_minor": 0,
  "metadata": {
    "colab": {
      "name": "4.nn으로 구현하기.ipynb",
      "provenance": [],
      "toc_visible": true,
      "authorship_tag": "ABX9TyPMGgQehLLI1Vz0IyYtlc9/",
      "include_colab_link": true
    },
    "kernelspec": {
      "name": "python3",
      "display_name": "Python 3"
    }
  },
  "cells": [
    {
      "cell_type": "markdown",
      "metadata": {
        "id": "view-in-github",
        "colab_type": "text"
      },
      "source": [
        "<a href=\"https://colab.research.google.com/github/hana-dool/Pytorch/blob/master/4_nn%EC%9C%BC%EB%A1%9C_%EA%B5%AC%ED%98%84%ED%95%98%EA%B8%B0.ipynb\" target=\"_parent\"><img src=\"https://colab.research.google.com/assets/colab-badge.svg\" alt=\"Open In Colab\"/></a>"
      ]
    },
    {
      "cell_type": "markdown",
      "metadata": {
        "id": "i2TI72RI39bb",
        "colab_type": "text"
      },
      "source": [
        "# 단순 선형 회귀"
      ]
    },
    {
      "cell_type": "code",
      "metadata": {
        "id": "LYXd-Dmc0M-4",
        "colab_type": "code",
        "colab": {}
      },
      "source": [
        "# nn.Module 로 구현하는 선형회귀\n",
        "# 이전까지는 선형회귀를 직접적으로 이해하기위해 가설/비용함수를 직접 정의했으나, 파이토치에서 이미 구현되어져 제공하고 있는\n",
        "# 함수들을 불러오는것으로 더 쉽게 회귀모델을 구현해 볼 수 있다."
      ],
      "execution_count": 1,
      "outputs": []
    },
    {
      "cell_type": "code",
      "metadata": {
        "id": "wS4vS2mk0Zav",
        "colab_type": "code",
        "colab": {}
      },
      "source": [
        "import torch"
      ],
      "execution_count": 2,
      "outputs": []
    },
    {
      "cell_type": "code",
      "metadata": {
        "id": "qt_3tOIQ0wZn",
        "colab_type": "code",
        "colab": {
          "base_uri": "https://localhost:8080/",
          "height": 35
        },
        "outputId": "a1cb3133-e784-454c-9f7f-8bd1f12ccbcc"
      },
      "source": [
        "torch.manual_seed(1)"
      ],
      "execution_count": 3,
      "outputs": [
        {
          "output_type": "execute_result",
          "data": {
            "text/plain": [
              "<torch._C.Generator at 0x7f199a442bf0>"
            ]
          },
          "metadata": {
            "tags": []
          },
          "execution_count": 3
        }
      ]
    },
    {
      "cell_type": "code",
      "metadata": {
        "id": "t4ebkmzt049K",
        "colab_type": "code",
        "colab": {}
      },
      "source": [
        "# 데이터 정의하기\n",
        "x_train = torch.FloatTensor([[1], [2], [3]])\n",
        "y_train = torch.FloatTensor([[2], [4], [6]])"
      ],
      "execution_count": 4,
      "outputs": []
    },
    {
      "cell_type": "code",
      "metadata": {
        "id": "V8-3XfhF1Jac",
        "colab_type": "code",
        "colab": {}
      },
      "source": [
        "# 모델을 선언 및 초기화. \n",
        "# nn.Linear 은 입력의 차원, 출력의 차원을 인수로 받는다.\n",
        "# 단순 선형 회귀이므로 입력차원은 1이고 출력차원도 1이다. input_dim=1, output_dim=1.\n",
        "model = torch.nn.Linear(1,1)"
      ],
      "execution_count": 5,
      "outputs": []
    },
    {
      "cell_type": "code",
      "metadata": {
        "id": "GjJpZkRH1Kug",
        "colab_type": "code",
        "colab": {
          "base_uri": "https://localhost:8080/",
          "height": 71
        },
        "outputId": "2394c38e-960a-45ce-a4bf-8115121e908f"
      },
      "source": [
        "# 이 모델에는 편리하게도 가중치 W 와 편향 b 가 저장되어있다.\n",
        "# 이 값은 model.parameters() 함수를 통해 불러올 수 있따.\n",
        "# 현재는 두 값이 출력되는데, 첫번쨰 값은 w 이고, 두번쨰 값이 b 에 해당된다.\n",
        "# 두 값 모두 현재는 random 초기화가 되어있는것을 볼 수 있다. (0 초기화보다 random 초기화가 성능이 더 좋음)\n",
        "# 두 값 모두 학습의 대상이므로 requires_grad = True 가 된다.\n",
        "print(list(model.parameters()))"
      ],
      "execution_count": 6,
      "outputs": [
        {
          "output_type": "stream",
          "text": [
            "[Parameter containing:\n",
            "tensor([[0.5153]], requires_grad=True), Parameter containing:\n",
            "tensor([-0.4414], requires_grad=True)]\n"
          ],
          "name": "stdout"
        }
      ]
    },
    {
      "cell_type": "code",
      "metadata": {
        "id": "sF-v9sUe2aox",
        "colab_type": "code",
        "colab": {}
      },
      "source": [
        "# optimizer 설정. 경사 하강법 SGD를 사용하고 learning rate를 의미하는 lr은 0.01\n",
        "optimizer = torch.optim.SGD(model.parameters(), lr=0.01)  "
      ],
      "execution_count": 7,
      "outputs": []
    },
    {
      "cell_type": "code",
      "metadata": {
        "id": "KXVfHDfV27s_",
        "colab_type": "code",
        "colab": {
          "base_uri": "https://localhost:8080/",
          "height": 395
        },
        "outputId": "69a5bb1d-f0e9-4510-95c4-52b069e46c51"
      },
      "source": [
        "# 전체 훈련 데이터에 대해 경사 하강법을 2,000회 반복\n",
        "nb_epochs = 2000\n",
        "for epoch in range(nb_epochs+1):\n",
        "\n",
        "    # H(x) 계산\n",
        "    y_pred = model(x_train) \n",
        "    # x_train 으로부터 예측값을 return 하는 forward 연산이다.\n",
        "\n",
        "    # cost 계산\n",
        "    cost = torch.nn.functional.mse_loss(y_pred, y_train) # <== 파이토치에서 제공하는 평균 제곱 오차 함수\n",
        "\n",
        "    # cost로 H(x) 개선하는 부분\n",
        "    # gradient를 0으로 초기화\n",
        "    optimizer.zero_grad()\n",
        "    # 비용 함수를 미분하여 gradient 계산\n",
        "    cost.backward() # backward 연산\n",
        "    # W와 b를 업데이트\n",
        "    optimizer.step()\n",
        "\n",
        "    if epoch % 100 == 0:\n",
        "    # 100번마다 로그 출력\n",
        "      print('Epoch {:4d}/{} Cost: {:.6f}'.format(\n",
        "          epoch, nb_epochs, cost.item()\n",
        "      ))"
      ],
      "execution_count": 8,
      "outputs": [
        {
          "output_type": "stream",
          "text": [
            "Epoch    0/2000 Cost: 13.103541\n",
            "Epoch  100/2000 Cost: 0.002791\n",
            "Epoch  200/2000 Cost: 0.001724\n",
            "Epoch  300/2000 Cost: 0.001066\n",
            "Epoch  400/2000 Cost: 0.000658\n",
            "Epoch  500/2000 Cost: 0.000407\n",
            "Epoch  600/2000 Cost: 0.000251\n",
            "Epoch  700/2000 Cost: 0.000155\n",
            "Epoch  800/2000 Cost: 0.000096\n",
            "Epoch  900/2000 Cost: 0.000059\n",
            "Epoch 1000/2000 Cost: 0.000037\n",
            "Epoch 1100/2000 Cost: 0.000023\n",
            "Epoch 1200/2000 Cost: 0.000014\n",
            "Epoch 1300/2000 Cost: 0.000009\n",
            "Epoch 1400/2000 Cost: 0.000005\n",
            "Epoch 1500/2000 Cost: 0.000003\n",
            "Epoch 1600/2000 Cost: 0.000002\n",
            "Epoch 1700/2000 Cost: 0.000001\n",
            "Epoch 1800/2000 Cost: 0.000001\n",
            "Epoch 1900/2000 Cost: 0.000000\n",
            "Epoch 2000/2000 Cost: 0.000000\n"
          ],
          "name": "stdout"
        }
      ]
    },
    {
      "cell_type": "markdown",
      "metadata": {
        "id": "DyPRTUiR3Dsm",
        "colab_type": "text"
      },
      "source": [
        "# 다중 선형 회귀"
      ]
    },
    {
      "cell_type": "code",
      "metadata": {
        "id": "3em1IwAy4RR-",
        "colab_type": "code",
        "colab": {}
      },
      "source": [
        "x_train = torch.FloatTensor([[73, 80, 75],\n",
        "                             [93, 88, 93],\n",
        "                             [89, 91, 90],\n",
        "                             [96, 98, 100],\n",
        "                             [73, 66, 70]])\n",
        "y_train = torch.FloatTensor([[152], [185], [180], [196], [142]])\n"
      ],
      "execution_count": 9,
      "outputs": []
    },
    {
      "cell_type": "code",
      "metadata": {
        "id": "EeCrXqnB4Uyr",
        "colab_type": "code",
        "colab": {}
      },
      "source": [
        "# 모델을 선언 및 초기화. 다중 선형 회귀이므로 input_dim=3, output_dim=1.\n",
        "model = torch.nn.Linear(3,1)"
      ],
      "execution_count": 10,
      "outputs": []
    },
    {
      "cell_type": "code",
      "metadata": {
        "id": "MabUPn7d4WQ2",
        "colab_type": "code",
        "colab": {
          "base_uri": "https://localhost:8080/",
          "height": 71
        },
        "outputId": "7e1de5d8-89c6-4137-e37c-00ba9a20209a"
      },
      "source": [
        "print(list(model.parameters()))\n",
        "# 첫 3개의 출력이 w이다.\n",
        "# 두번쨰 출력되는것이 b 이다."
      ],
      "execution_count": 11,
      "outputs": [
        {
          "output_type": "stream",
          "text": [
            "[Parameter containing:\n",
            "tensor([[-0.1119,  0.2710, -0.5435]], requires_grad=True), Parameter containing:\n",
            "tensor([0.3462], requires_grad=True)]\n"
          ],
          "name": "stdout"
        }
      ]
    },
    {
      "cell_type": "code",
      "metadata": {
        "id": "77D4o_W34ZCh",
        "colab_type": "code",
        "colab": {}
      },
      "source": [
        "optimizer = torch.optim.SGD(model.parameters(), lr=1e-5) "
      ],
      "execution_count": 12,
      "outputs": []
    },
    {
      "cell_type": "code",
      "metadata": {
        "id": "w5juzpkD4e2s",
        "colab_type": "code",
        "colab": {
          "base_uri": "https://localhost:8080/",
          "height": 395
        },
        "outputId": "87d5b164-23ae-4912-c61d-ecf74bc740b4"
      },
      "source": [
        "nb_epochs = 2000\n",
        "for epoch in range(nb_epochs+1):\n",
        "\n",
        "    # H(x) 계산\n",
        "    prediction = model(x_train)\n",
        "    # model(x_train)은 model.forward(x_train)와 동일함.\n",
        "\n",
        "    # cost 계산\n",
        "    cost = torch.nn.functional.mse_loss(prediction, y_train) # <== 파이토치에서 제공하는 평균 제곱 오차 함수\n",
        "\n",
        "    # cost로 H(x) 개선하는 부분\n",
        "    # gradient를 0으로 초기화\n",
        "    optimizer.zero_grad()\n",
        "    # 비용 함수를 미분하여 gradient 계산\n",
        "    cost.backward()\n",
        "    # W와 b를 업데이트\n",
        "    optimizer.step()\n",
        "\n",
        "    if epoch % 100 == 0:\n",
        "    # 100번마다 로그 출력\n",
        "      print('Epoch {:4d}/{} Cost: {:.6f}'.format(\n",
        "          epoch, nb_epochs, cost.item()\n",
        "      ))"
      ],
      "execution_count": 14,
      "outputs": [
        {
          "output_type": "stream",
          "text": [
            "Epoch    0/2000 Cost: 42134.703125\n",
            "Epoch  100/2000 Cost: 5.960053\n",
            "Epoch  200/2000 Cost: 5.654707\n",
            "Epoch  300/2000 Cost: 5.365413\n",
            "Epoch  400/2000 Cost: 5.091429\n",
            "Epoch  500/2000 Cost: 4.831834\n",
            "Epoch  600/2000 Cost: 4.585997\n",
            "Epoch  700/2000 Cost: 4.353075\n",
            "Epoch  800/2000 Cost: 4.132411\n",
            "Epoch  900/2000 Cost: 3.923456\n",
            "Epoch 1000/2000 Cost: 3.725502\n",
            "Epoch 1100/2000 Cost: 3.537972\n",
            "Epoch 1200/2000 Cost: 3.360325\n",
            "Epoch 1300/2000 Cost: 3.192056\n",
            "Epoch 1400/2000 Cost: 3.032674\n",
            "Epoch 1500/2000 Cost: 2.881700\n",
            "Epoch 1600/2000 Cost: 2.738672\n",
            "Epoch 1700/2000 Cost: 2.603201\n",
            "Epoch 1800/2000 Cost: 2.474846\n",
            "Epoch 1900/2000 Cost: 2.353286\n",
            "Epoch 2000/2000 Cost: 2.238110\n"
          ],
          "name": "stdout"
        }
      ]
    },
    {
      "cell_type": "code",
      "metadata": {
        "id": "Ydxfhxyv41Om",
        "colab_type": "code",
        "colab": {
          "base_uri": "https://localhost:8080/",
          "height": 35
        },
        "outputId": "76c1fd17-5220-4e07-d1d2-d804a68dcc29"
      },
      "source": [
        "# 임의의 입력 [73, 80, 75]를 선언\n",
        "new_var =  torch.FloatTensor([[73, 80, 75]]) \n",
        "# 입력한 값 [73, 80, 75]에 대해서 예측값 y를 리턴받아서 pred_y에 저장\n",
        "pred_y = model(new_var) \n",
        "print(\"훈련 후 입력이 73, 80, 75일 때의 예측값 :\", pred_y) "
      ],
      "execution_count": 15,
      "outputs": [
        {
          "output_type": "stream",
          "text": [
            "훈련 후 입력이 73, 80, 75일 때의 예측값 : tensor([[153.7184]], grad_fn=<AddmmBackward>)\n"
          ],
          "name": "stdout"
        }
      ]
    },
    {
      "cell_type": "code",
      "metadata": {
        "id": "cbICCOQY43Nn",
        "colab_type": "code",
        "colab": {
          "base_uri": "https://localhost:8080/",
          "height": 71
        },
        "outputId": "0b04632f-80ea-4437-9894-ad8a9da3b31b"
      },
      "source": [
        "# 학습 후의 최적의 w 와 b\n",
        "print(list(model.parameters()))"
      ],
      "execution_count": 16,
      "outputs": [
        {
          "output_type": "stream",
          "text": [
            "[Parameter containing:\n",
            "tensor([[0.8541, 0.8475, 0.3096]], requires_grad=True), Parameter containing:\n",
            "tensor([0.3568], requires_grad=True)]\n"
          ],
          "name": "stdout"
        }
      ]
    },
    {
      "cell_type": "code",
      "metadata": {
        "id": "qF1a1qW148x7",
        "colab_type": "code",
        "colab": {}
      },
      "source": [
        ""
      ],
      "execution_count": null,
      "outputs": []
    }
  ]
}