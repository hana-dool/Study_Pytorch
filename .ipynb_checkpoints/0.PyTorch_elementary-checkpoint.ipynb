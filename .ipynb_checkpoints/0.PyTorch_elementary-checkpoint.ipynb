{
 "cells": [
  {
   "cell_type": "markdown",
   "metadata": {
    "colab_type": "text",
    "id": "view-in-github"
   },
   "source": [
    "<a href=\"https://colab.research.google.com/github/hana-dool/Pytorch/blob/master/0.PyTorch_elementary.ipynb\" target=\"_parent\"><img src=\"https://colab.research.google.com/assets/colab-badge.svg\" alt=\"Open In Colab\"/></a>"
   ]
  },
  {
   "cell_type": "markdown",
   "metadata": {
    "colab_type": "text",
    "id": "o4UYL6KH8V4Q"
   },
   "source": [
    "# Tensor 만들기"
   ]
  },
  {
   "cell_type": "code",
   "execution_count": 3,
   "metadata": {
    "colab": {
     "base_uri": "https://localhost:8080/",
     "height": 71
    },
    "colab_type": "code",
    "id": "brPeNzB2G1PZ",
    "outputId": "5ceb9cb2-7490-47b5-9c67-4d0cb5d2d23f"
   },
   "outputs": [
    {
     "name": "stdout",
     "output_type": "stream",
     "text": [
      "2\n",
      "torch.Size([2, 2])\n",
      "torch.Size([2, 2])\n"
     ]
    }
   ],
   "source": [
    "import numpy as np\n",
    "import torch\n",
    "\n",
    "t = torch.tensor([[1, 2], [3, 4.]]) # 텐서 지정\n",
    "\n",
    "# 텐서의 구성 형태를 살펴볼 수 있다.\n",
    "print(t.dim())\n",
    "print(t.shape)\n",
    "print(t.size())\n",
    "\n",
    "# device를 지정하면 GPU로 Tensor를 만들 수 있다\n",
    "t = torch.tensor([[1, 2], [3, 4.]], device=\"cpu\") # 'cpu' -> gpu 로 고치면 gpu tensor 가 된다.\n",
    "\n",
    "# dtype을 사용해 데이터형을 지정해 Tensor를 만들 수 있다\n",
    "t = torch.tensor([[1, 2], [3, 4.]], dtype=torch.float64)\n",
    "\n",
    "# dtype을 지정하지 않고 바로 실수형의 tensor 를 만들 수 있다.\n",
    "t = torch.FloatTensor([[1,2],[3,4]])\n",
    "\n",
    "# 0부터 9까지의 수치로 초기화된 1차원 Tensor\n",
    "t = torch.arange(0, 10)\n",
    "\n",
    "#모든 값이 0인 100 x 10 의 Tensor를\n",
    "#작성해서 to메서드로 GPU에 전송\n",
    "t = torch.zeros(100, 10).to(\"cpu\") # 'cpu -> gpu 로 보내면 gpu 연산이 된다.'\n",
    "\n",
    "# 정규 난수로 100 x 10의 Tensor를 작성\n",
    "t = torch.randn(100, 10)\n"
   ]
  },
  {
   "cell_type": "code",
   "execution_count": null,
   "metadata": {
    "colab": {},
    "colab_type": "code",
    "id": "_9_k9OHKKO7N"
   },
   "outputs": [],
   "source": [
    "# numpy 메서드를 사용해 ndarray로 변환\n",
    "t = torch.tensor([[1, 2], [3, 4.]])\n",
    "x = t.numpy()\n",
    "\n",
    "# GPU上상의 Tensor는 cpu메서드로,\n",
    "# CPU의 Tensor로 이동(변환)할 필요가 있다\n",
    "t = torch.tensor([[1, 2], [3, 4.]], device=\"cuda:0\")\n",
    "# x = t.to(\"cpu\").numpy()"
   ]
  },
  {
   "cell_type": "markdown",
   "metadata": {
    "colab_type": "text",
    "id": "SuAOleow8RLn"
   },
   "source": [
    "# indexing"
   ]
  },
  {
   "cell_type": "code",
   "execution_count": 23,
   "metadata": {
    "colab": {
     "base_uri": "https://localhost:8080/",
     "height": 233
    },
    "colab_type": "code",
    "id": "8UNizuxpLPFD",
    "outputId": "4a005f19-614a-4829-b20c-286f7ee4a131"
   },
   "outputs": [
    {
     "name": "stdout",
     "output_type": "stream",
     "text": [
      "tensor(3.)\n",
      "tensor([[1., 2.],\n",
      "        [4., 5.]])\n",
      "tensor([[2., 3.],\n",
      "        [5., 6.]])\n",
      "tensor([4., 5., 6.])\n",
      "tensor([[  1., 100.,   3.],\n",
      "        [  4.,   5.,   6.]])\n",
      "tensor([[  1., 200.,   3.],\n",
      "        [  4., 200.,   6.]])\n",
      "tensor([[ 1., 20.,  3.],\n",
      "        [ 4., 20.,  6.]])\n"
     ]
    }
   ],
   "source": [
    "\n",
    "t = torch.tensor([[1,2,3],\n",
    "                  [4,5,6.]])\n",
    "\n",
    "print(t[0, 2]) # 스칼라 첨자 지정\n",
    "print(t[:,:2])  # 슬라이스로 지정\n",
    "print(t[:, [1,2]])    # 리스트로 지정\n",
    "print(t[t > 3])       # 마스크 배열을 시용해서 3보다 큰 부분만 선택\n",
    "t[0, 1] = 100 ;print(t)  # [0, 1]의 요소를 100으로 설정\n",
    "t[:, 1] = 200 ;print(t)# 슬라이스를 사용한 일괄 대입\n",
    "t[t > 10] = 20 ;print(t) # 마스크 배열을 사용해서 특정 조건의 요소만 치환"
   ]
  },
  {
   "cell_type": "markdown",
   "metadata": {
    "colab_type": "text",
    "id": "V_spj8UKA9mV"
   },
   "source": [
    "# 연산"
   ]
  },
  {
   "cell_type": "code",
   "execution_count": 20,
   "metadata": {
    "colab": {
     "base_uri": "https://localhost:8080/",
     "height": 179
    },
    "colab_type": "code",
    "id": "z_MVzRNvV0tF",
    "outputId": "e2fe3deb-2e7d-4b9c-bfde-86dede694c12"
   },
   "outputs": [
    {
     "name": "stdout",
     "output_type": "stream",
     "text": [
      "tensor([11., 12., 13.])\n",
      "tensor([[  0.,   2.,   4.],\n",
      "        [200., 400., 600.]])\n",
      "tensor([  1.,  -8., -17.])\n",
      "tensor([ 0., 20., 60.])\n",
      "tensor([[  1.,   3.,   5.],\n",
      "        [101., 202., 303.]])\n",
      "tensor([[  0.0000,   0.5000,   0.6667],\n",
      "        [100.0000, 100.0000, 100.0000]])\n"
     ]
    }
   ],
   "source": [
    "# 길이 3인 벡터\n",
    "v = torch.tensor([1, 2, 3.])\n",
    "w = torch.tensor([0, 10, 20.])\n",
    "\n",
    "m = torch.tensor([[0, 1, 2], \n",
    "                  [100, 200, 300.]])\n",
    "\n",
    "# 행렬과 스칼라의 연산 + - / ** (모든 element 에 대해 값이 들어간다.)\n",
    "z = v + 10 ; print(z)\n",
    "z = m * 2 ; print(z)\n",
    "\n",
    "# 동일 길이의 벡터 간 연산 (elementwise 하게 연산된다.)\n",
    "z = v - w ; print(z)\n",
    "z = v * w ; print(z)\n",
    "\n",
    "# 브로드캐스팅\n",
    "z = m + v ; print(z)\n",
    "z = m / v ; print(z)"
   ]
  },
  {
   "cell_type": "code",
   "execution_count": 23,
   "metadata": {
    "colab": {
     "base_uri": "https://localhost:8080/",
     "height": 233
    },
    "colab_type": "code",
    "id": "pigFG5GebdBv",
    "outputId": "8895157f-c87e-4b7e-b148-09d9539f2e0e"
   },
   "outputs": [
    {
     "name": "stdout",
     "output_type": "stream",
     "text": [
      "tensor([[ 3.,  6.],\n",
      "        [ 9., 12.]])\n",
      "tensor(2.5000)\n",
      "tensor(2.5000)\n",
      "2.5\n",
      "tensor([2., 3.])\n",
      "tensor(4.)\n",
      "torch.return_types.max(\n",
      "values=tensor([3., 4.]),\n",
      "indices=tensor([1, 1]))\n",
      "tensor([[1., 2.],\n",
      "        [6., 8.]])\n"
     ]
    }
   ],
   "source": [
    "# 100 × 10의 테스트 데이터 생성\n",
    "X = torch.FloatTensor([[1, 2],\n",
    "                       [3, 4]])\n",
    "\n",
    "# 수학 함수를 포함하는 수식\n",
    "y = X * 2 + torch.abs(X) ; print(y)\n",
    "# 평균치 구하기(col summary 가 default)\n",
    "m = torch.mean(X) ; print(m) \n",
    "# 함수가 아닌 메서드로도 사용할 수 있다\n",
    "m = X.mean() ; print(m)\n",
    "# 집계 결과는 0차원의 Tensor로 item 메서드를 사용해서\n",
    "# 값을 추출할 수 있다\n",
    "m_value = m.item() ; print(m_value)\n",
    "# 집계는 차원을 지정할 수도 있다. 다음은 행 방향으로 집계해서,\n",
    "# 열 단위로 평균값을 계산한다\n",
    "m2 = X.mean(0) ; print(m2)\n",
    "# 최대값\n",
    "print(X.max())\n",
    "# 제거하는 차원 설정(dim)\n",
    "print(X.max(dim=0)) \n",
    "# 0 은 첫번쨰 차원을 제거하고 \n",
    "m1 = torch.FloatTensor([[1, 2], \n",
    "                        [3, 4]])\n",
    "m2 = torch.FloatTensor([[1], \n",
    "                        [2]])\n",
    "print(m1.mul(m2)) # m1 * m2 (행렬곱)\n"
   ]
  },
  {
   "cell_type": "markdown",
   "metadata": {
    "colab_type": "text",
    "id": "Tki_BMMEBAAH"
   },
   "source": [
    "# 변형"
   ]
  },
  {
   "cell_type": "code",
   "execution_count": 22,
   "metadata": {
    "colab": {
     "base_uri": "https://localhost:8080/",
     "height": 251
    },
    "colab_type": "code",
    "id": "sEa8RXD1hSb6",
    "outputId": "8570f69d-443e-4a9c-823a-e8cef156f3cb"
   },
   "outputs": [
    {
     "name": "stdout",
     "output_type": "stream",
     "text": [
      "tensor([[1., 2.],\n",
      "        [3., 4.]])\n",
      "tensor([[1., 2.],\n",
      "        [3., 4.]])\n",
      "tensor([[10., 20., 30.],\n",
      "        [40., 50., 60.]])\n",
      "tensor([[ 1.,  2., 10., 20., 30.],\n",
      "        [ 3.,  4., 40., 50., 60.]])\n",
      "tensor([0., 1., 2.])\n",
      "tensor([[0., 1., 2.]])\n",
      "tensor([[0.],\n",
      "        [1.],\n",
      "        [2.]])\n"
     ]
    }
   ],
   "source": [
    "x1 = torch.tensor([[1, 2], [3, 4.]]) # 2×2\n",
    "x2 = torch.tensor([[10, 20, 30], [40, 50, 60.]]) # 2×3\n",
    "\n",
    "# 텐서의 크기변경 (view)\n",
    "x1.view(4, 1) ;print(x1)\n",
    "\n",
    "# -1는 나머지 차원을 나타내며 한 번만 사용할 수 있다\n",
    "# 아래 예에선 -1을 사용하면 자동으로 4가 된다\n",
    "x1.view(1, -1) ;print(x1)\n",
    "\n",
    "# 텐서의 transpose [t.()]\n",
    "x2.t() ; print(x2) #  2×3을 전치해서 3×2로 만든다\n",
    "\n",
    "# cat\n",
    "print( torch.cat([x1, x2], dim=1) ) # dim=1로 결합하면(col 방향) 2×5의 Tensor를 만든다\n",
    "\n",
    "# 1인 차원을 제거 [Squeeze]\n",
    "ft = torch.FloatTensor([[0], [1], [2]])\n",
    "print(ft.squeeze())\n",
    "\n",
    "# 특정 위치에 1인 차원 추가 [Unsqueeze]\n",
    "ft = torch.Tensor([0, 1, 2])\n",
    "print(ft.unsqueeze(0)) #첫번쨰 차원 (=0) 에 추가\n",
    "print(ft.unsqueeze(-1)) # 마지막 차원 (=-1) 에 추가\n"
   ]
  },
  {
   "cell_type": "markdown",
   "metadata": {
    "colab_type": "text",
    "id": "jm7bqyldBcu7"
   },
   "source": [
    "\n",
    "# 특별함수"
   ]
  },
  {
   "cell_type": "code",
   "execution_count": 4,
   "metadata": {
    "colab": {
     "base_uri": "https://localhost:8080/",
     "height": 53
    },
    "colab_type": "code",
    "id": "zxDjjnGej3ej",
    "outputId": "598b478e-5c8d-4801-a7f5-6f456dd9236f"
   },
   "outputs": [
    {
     "name": "stdout",
     "output_type": "stream",
     "text": [
      "tensor([[1., 2.],\n",
      "        [6., 8.]])\n"
     ]
    }
   ],
   "source": [
    "x = torch.FloatTensor([[0, 1, 2],\n",
    "                       [2, 1, 0]]) ; print(x)\n",
    "print(torch.ones_like(x)) # 입력 텐서와 크기를 동일하게 하면서 값을 1로 채우기\n",
    "print(torch.zeros_like(x)) # 입력 텐서와 크기를 동일하게 하면서 값을 0으로 채우기"
   ]
  },
  {
   "cell_type": "markdown",
   "metadata": {},
   "source": [
    "## One hot encoding"
   ]
  },
  {
   "cell_type": "code",
   "execution_count": 9,
   "metadata": {},
   "outputs": [
    {
     "name": "stdout",
     "output_type": "stream",
     "text": [
      "tensor([[0.1205, 0.5669, 0.6073, 0.7729, 0.5912],\n",
      "        [0.3808, 0.8666, 0.9871, 0.9672, 0.1639]])\n",
      "tensor([[0.1205, 0.8666, 0.9871, 0.7729, 0.5912],\n",
      "        [0.0000, 0.5669, 0.0000, 0.9672, 0.0000],\n",
      "        [0.3808, 0.0000, 0.6073, 0.0000, 0.1639]])\n",
      "tensor([[0., 0., 1., 0.],\n",
      "        [0., 0., 0., 1.]])\n"
     ]
    }
   ],
   "source": [
    "x = torch.rand(2, 5) ; print(x)\n",
    "print ( torch.zeros(3, 5).scatter_(0, torch.tensor([[0, 1, 2, 0, 0], \n",
    "                                                    [2, 0, 0, 1, 2]]), x) ) \n",
    "# torch.zeros(3,5) 에서 3*5 의 matrix 를 만든다.\n",
    "# scatter_ \n",
    "# 첫인자 : 어떤 방식으로 연산을 수행할시, axis 라고 생각하면 편하다. 0 이므로 row 방향 연산\n",
    "# 두번쨰 인자 : 첫 인자에서 정한 기준으로, 값을 어떻게 넣을지 (세번쨰 인자에서 정한 기준으로)\n",
    "# ex) row 방향 연산이므로, 두번쨰 인자의 첫 열인 0,2 가 의미하는것은 \n",
    "# zeros(3,5) 에서 첫번쨰 col 에 더해 ,(0,2) 번쨰 값은 x와 똑같이 들어간다는 이야기이다.\n",
    "z = torch.zeros(2, 4).scatter_(1, torch.tensor([[2], \n",
    "                                                [3]]),1) ; print(z)\n",
    "# 이경우 첫 인자가 1 이므로 col 기준 연산이다. \n",
    "# zeros(2,4) 에 대해 0번쨰 row / 2번쨰 값 은 세번쨰인자와 똑같이 들어간다(1)\n"
   ]
  },
  {
   "cell_type": "code",
   "execution_count": null,
   "metadata": {
    "colab": {
     "base_uri": "https://localhost:8080/",
     "height": 35
    },
    "colab_type": "code",
    "id": "XUamlWc9C-Y1",
    "outputId": "5fd3e425-b6b1-48b2-b16b-e83379753755"
   },
   "outputs": [
    {
     "data": {
      "text/plain": [
       "tensor([False, False, False])"
      ]
     },
     "execution_count": 8,
     "metadata": {
      "tags": []
     },
     "output_type": "execute_result"
    }
   ],
   "source": [
    "x = torch.randn(100, 3)\n",
    "# 미분의 변수로 사용하는 경우는 requires_grad를 True로 설정\n",
    "a = torch.tensor([1, 2, 3.], requires_grad=True)\n",
    "\n",
    "# 계산을 통해 자동으로 계산 그래프가 구축된다\n",
    "y = torch.mv(x, a)\n",
    "o = y.sum()\n",
    "\n",
    "# 미분을 실행\n",
    "o.backward()\n",
    "# 분석 답과 비교\n",
    "a.grad != x.sum(0)"
   ]
  },
  {
   "cell_type": "code",
   "execution_count": null,
   "metadata": {
    "colab": {
     "base_uri": "https://localhost:8080/",
     "height": 35
    },
    "colab_type": "code",
    "id": "tgnPChF0DfTs",
    "outputId": "8b9a6e1d-c5f8-44d6-baec-4916ad53d5cd"
   },
   "outputs": [
    {
     "data": {
      "text/plain": [
       "True"
      ]
     },
     "execution_count": 9,
     "metadata": {
      "tags": []
     },
     "output_type": "execute_result"
    }
   ],
   "source": [
    "# x는 requires_grad가 False이므로 미분이 계산되지 않는다\n",
    "x.grad is None"
   ]
  },
  {
   "cell_type": "code",
   "execution_count": null,
   "metadata": {
    "colab": {},
    "colab_type": "code",
    "id": "465UMz_WtDvc"
   },
   "outputs": [],
   "source": []
  }
 ],
 "metadata": {
  "accelerator": "GPU",
  "colab": {
   "collapsed_sections": [],
   "include_colab_link": true,
   "name": "PyTorch elementary.ipynb",
   "provenance": [],
   "toc_visible": true
  },
  "kernelspec": {
   "display_name": "Python 3",
   "language": "python",
   "name": "python3"
  },
  "language_info": {
   "codemirror_mode": {
    "name": "ipython",
    "version": 3
   },
   "file_extension": ".py",
   "mimetype": "text/x-python",
   "name": "python",
   "nbconvert_exporter": "python",
   "pygments_lexer": "ipython3",
   "version": "3.8.3"
  },
  "toc": {
   "base_numbering": 1,
   "nav_menu": {},
   "number_sections": true,
   "sideBar": true,
   "skip_h1_title": false,
   "title_cell": "Table of Contents",
   "title_sidebar": "Contents",
   "toc_cell": false,
   "toc_position": {
    "height": "calc(100% - 180px)",
    "left": "10px",
    "top": "150px",
    "width": "215.903px"
   },
   "toc_section_display": true,
   "toc_window_display": true
  }
 },
 "nbformat": 4,
 "nbformat_minor": 1
}
