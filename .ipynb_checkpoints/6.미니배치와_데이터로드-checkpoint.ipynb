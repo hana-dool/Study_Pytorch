{
 "cells": [
  {
   "cell_type": "markdown",
   "metadata": {
    "colab_type": "text",
    "id": "view-in-github"
   },
   "source": [
    "<a href=\"https://colab.research.google.com/github/hana-dool/Pytorch/blob/master/6.%EB%AF%B8%EB%8B%88%EB%B0%B0%EC%B9%98%EC%99%80_%EB%8D%B0%EC%9D%B4%ED%84%B0%EB%A1%9C%EB%93%9C.ipynb\" target=\"_parent\"><img src=\"https://colab.research.google.com/assets/colab-badge.svg\" alt=\"Open In Colab\"/></a>"
   ]
  },
  {
   "cell_type": "code",
   "execution_count": 1,
   "metadata": {
    "colab": {},
    "colab_type": "code",
    "id": "YBlJmkp9AVIf"
   },
   "outputs": [],
   "source": [
    "import torch\n",
    "import torch.nn as nn\n",
    "import torch.nn.functional as F"
   ]
  },
  {
   "cell_type": "code",
   "execution_count": 2,
   "metadata": {
    "colab": {},
    "colab_type": "code",
    "id": "aAlpQHIcAc9I"
   },
   "outputs": [],
   "source": [
    "from torch.utils.data import TensorDataset # 텐서데이터셋\n",
    "from torch.utils.data import DataLoader # 데이터로더"
   ]
  },
  {
   "cell_type": "code",
   "execution_count": 3,
   "metadata": {
    "colab": {},
    "colab_type": "code",
    "id": "NEB02npHAkp8"
   },
   "outputs": [],
   "source": [
    "# TensorDataset 은 기본적으로 텐서를 입력으로 받는다.\n",
    "# 즉 텐서형태로 데이터를 정의해야만 한다."
   ]
  },
  {
   "cell_type": "code",
   "execution_count": 4,
   "metadata": {
    "colab": {},
    "colab_type": "code",
    "id": "Y2pk8p3UAfOn"
   },
   "outputs": [],
   "source": [
    "x_train  =  torch.FloatTensor([[73,  80,  75], \n",
    "                               [93,  88,  93], \n",
    "                               [89,  91,  90], \n",
    "                               [96,  98,  100],   \n",
    "                               [73,  66,  70]])  \n",
    "y_train  =  torch.FloatTensor([[152],  [185],  [180],  [196],  [142]])"
   ]
  },
  {
   "cell_type": "code",
   "execution_count": 5,
   "metadata": {
    "colab": {},
    "colab_type": "code",
    "id": "2nUf1KlFAjCG"
   },
   "outputs": [],
   "source": [
    "dataset = TensorDataset(x_train, y_train)"
   ]
  },
  {
   "cell_type": "code",
   "execution_count": 6,
   "metadata": {
    "colab": {},
    "colab_type": "code",
    "id": "_CvlcgeKAxZb"
   },
   "outputs": [],
   "source": [
    "# 파이토치의 데이터셋을 만들었다면 데이터로더를 사용 가능하다.\n",
    "# 데이터로더는 기본적으로 2개의 인자(데이터셋, 미니배치의 크기)\n",
    "# 미니배치의 크기는 2배수 (cpu/gpu 의 구조상 2배수가 계산속도면에서 좋다고 한다...?)\n",
    "# shuffle = True 를 선택하면 Epoch 마다 데이터셋을 섞어서 데이터가 학습되는 순서를 바꾼다.\n",
    "# 사람도 같은 문제지를 계속 풀면 어느순간 문제의 순서에 익숙해질 수 있다. (즉 데이터가 학습되는 순서에 익숙해져서 학습될수도..)\n",
    "# 그러므로 모델이 데이터셋의 순서에 익숙해지는것을 막기위해 이 옵션을 True 로 주는것을 권장한다."
   ]
  },
  {
   "cell_type": "code",
   "execution_count": 7,
   "metadata": {
    "colab": {},
    "colab_type": "code",
    "id": "Vx5m6ox3BJef"
   },
   "outputs": [],
   "source": [
    "dataloader = DataLoader(dataset, batch_size=2, shuffle=True)"
   ]
  },
  {
   "cell_type": "code",
   "execution_count": 8,
   "metadata": {
    "colab": {},
    "colab_type": "code",
    "id": "gwVhNKYBBb5u"
   },
   "outputs": [],
   "source": [
    "model = nn.Linear(3,1) # 모델설정\n",
    "optimizer = torch.optim.SGD(model.parameters(), lr=1e-5)  # 옵티마이저 설정"
   ]
  },
  {
   "cell_type": "code",
   "execution_count": 9,
   "metadata": {
    "colab": {
     "base_uri": "https://localhost:8080/",
     "height": 1000
    },
    "colab_type": "code",
    "id": "bjbyOeu2BeUR",
    "outputId": "35d5f945-b2fd-42c8-b2b4-ebcef8eb50fb"
   },
   "outputs": [
    {
     "name": "stdout",
     "output_type": "stream",
     "text": [
      "Epoch    0/20 Batch 1/3 Cost: 42839.929688\n",
      "Epoch    0/20 Batch 2/3 Cost: 17465.833984\n",
      "Epoch    0/20 Batch 3/3 Cost: 7689.656738\n",
      "Epoch    1/20 Batch 1/3 Cost: 814.463379\n",
      "Epoch    1/20 Batch 2/3 Cost: 642.906738\n",
      "Epoch    1/20 Batch 3/3 Cost: 90.551186\n",
      "Epoch    2/20 Batch 1/3 Cost: 28.731319\n",
      "Epoch    2/20 Batch 2/3 Cost: 14.298333\n",
      "Epoch    2/20 Batch 3/3 Cost: 12.115362\n",
      "Epoch    3/20 Batch 1/3 Cost: 0.285316\n",
      "Epoch    3/20 Batch 2/3 Cost: 3.487893\n",
      "Epoch    3/20 Batch 3/3 Cost: 5.332564\n",
      "Epoch    4/20 Batch 1/3 Cost: 2.021453\n",
      "Epoch    4/20 Batch 2/3 Cost: 5.775920\n",
      "Epoch    4/20 Batch 3/3 Cost: 0.873279\n",
      "Epoch    5/20 Batch 1/3 Cost: 3.164162\n",
      "Epoch    5/20 Batch 2/3 Cost: 2.024685\n",
      "Epoch    5/20 Batch 3/3 Cost: 2.488938\n",
      "Epoch    6/20 Batch 1/3 Cost: 0.767685\n",
      "Epoch    6/20 Batch 2/3 Cost: 7.295023\n",
      "Epoch    6/20 Batch 3/3 Cost: 1.314636\n",
      "Epoch    7/20 Batch 1/3 Cost: 0.819589\n",
      "Epoch    7/20 Batch 2/3 Cost: 3.118811\n",
      "Epoch    7/20 Batch 3/3 Cost: 4.992159\n",
      "Epoch    8/20 Batch 1/3 Cost: 2.914207\n",
      "Epoch    8/20 Batch 2/3 Cost: 1.709629\n",
      "Epoch    8/20 Batch 3/3 Cost: 3.304711\n",
      "Epoch    9/20 Batch 1/3 Cost: 3.374760\n",
      "Epoch    9/20 Batch 2/3 Cost: 2.312045\n",
      "Epoch    9/20 Batch 3/3 Cost: 0.843171\n",
      "Epoch   10/20 Batch 1/3 Cost: 0.383001\n",
      "Epoch   10/20 Batch 2/3 Cost: 3.375737\n",
      "Epoch   10/20 Batch 3/3 Cost: 5.186920\n",
      "Epoch   11/20 Batch 1/3 Cost: 2.877810\n",
      "Epoch   11/20 Batch 2/3 Cost: 2.493649\n",
      "Epoch   11/20 Batch 3/3 Cost: 1.594207\n",
      "Epoch   12/20 Batch 1/3 Cost: 3.010422\n",
      "Epoch   12/20 Batch 2/3 Cost: 1.920657\n",
      "Epoch   12/20 Batch 3/3 Cost: 2.543786\n",
      "Epoch   13/20 Batch 1/3 Cost: 0.302780\n",
      "Epoch   13/20 Batch 2/3 Cost: 6.537317\n",
      "Epoch   13/20 Batch 3/3 Cost: 3.092856\n",
      "Epoch   14/20 Batch 1/3 Cost: 2.284872\n",
      "Epoch   14/20 Batch 2/3 Cost: 1.862940\n",
      "Epoch   14/20 Batch 3/3 Cost: 6.205068\n",
      "Epoch   15/20 Batch 1/3 Cost: 2.466079\n",
      "Epoch   15/20 Batch 2/3 Cost: 4.430334\n",
      "Epoch   15/20 Batch 3/3 Cost: 2.025115\n",
      "Epoch   16/20 Batch 1/3 Cost: 2.765007\n",
      "Epoch   16/20 Batch 2/3 Cost: 1.574357\n",
      "Epoch   16/20 Batch 3/3 Cost: 6.450713\n",
      "Epoch   17/20 Batch 1/3 Cost: 1.682521\n",
      "Epoch   17/20 Batch 2/3 Cost: 3.090014\n",
      "Epoch   17/20 Batch 3/3 Cost: 2.324117\n",
      "Epoch   18/20 Batch 1/3 Cost: 0.382891\n",
      "Epoch   18/20 Batch 2/3 Cost: 6.334859\n",
      "Epoch   18/20 Batch 3/3 Cost: 3.112369\n",
      "Epoch   19/20 Batch 1/3 Cost: 3.328135\n",
      "Epoch   19/20 Batch 2/3 Cost: 1.971687\n",
      "Epoch   19/20 Batch 3/3 Cost: 1.772194\n",
      "Epoch   20/20 Batch 1/3 Cost: 5.476700\n",
      "Epoch   20/20 Batch 2/3 Cost: 2.390826\n",
      "Epoch   20/20 Batch 3/3 Cost: 1.445968\n"
     ]
    }
   ],
   "source": [
    "nb_epochs = 20\n",
    "for epoch in range(nb_epochs + 1):\n",
    "    for batch_idx, samples in enumerate(dataloader):\n",
    "        # print(batch_idx)\n",
    "        # print(samples)\n",
    "        x_train, y_train = samples\n",
    "        # H(x) 계산\n",
    "        prediction = model(x_train)\n",
    "\n",
    "        # cost 계산\n",
    "        cost = F.mse_loss(prediction, y_train)\n",
    "\n",
    "        # cost로 H(x) 계산\n",
    "        optimizer.zero_grad()\n",
    "        cost.backward()\n",
    "        optimizer.step()\n",
    "\n",
    "        print('Epoch {:4d}/{} Batch {}/{} Cost: {:.6f}'.format(\n",
    "        epoch, nb_epochs, batch_idx+1, len(dataloader),\n",
    "        cost.item()\n",
    "        ))\n"
   ]
  },
  {
   "cell_type": "code",
   "execution_count": null,
   "metadata": {
    "colab": {
     "base_uri": "https://localhost:8080/",
     "height": 35
    },
    "colab_type": "code",
    "id": "ZbOkc4DvBl9d",
    "outputId": "312fad87-395f-4cec-e7bc-0f623e3cb91e"
   },
   "outputs": [
    {
     "name": "stdout",
     "output_type": "stream",
     "text": [
      "훈련 후 입력이 73, 80, 75일 때의 예측값 : tensor([[153.9664]], grad_fn=<AddmmBackward>)\n"
     ]
    }
   ],
   "source": [
    "# 임의의 입력 [73, 80, 75]를 선언\n",
    "new_var =  torch.FloatTensor([[73, 80, 75]]) \n",
    "# 입력한 값 [73, 80, 75]에 대해서 예측값 y를 리턴받아서 pred_y에 저장\n",
    "pred_y = model(new_var) \n",
    "print(\"훈련 후 입력이 73, 80, 75일 때의 예측값 :\", pred_y) "
   ]
  },
  {
   "cell_type": "code",
   "execution_count": null,
   "metadata": {
    "colab": {},
    "colab_type": "code",
    "id": "sisMEhu1Bu1y"
   },
   "outputs": [],
   "source": []
  }
 ],
 "metadata": {
  "colab": {
   "authorship_tag": "ABX9TyMBa5h+oNFj6bwx8YVw+Pjm",
   "include_colab_link": true,
   "name": "미니배치와 데이터로드",
   "provenance": []
  },
  "kernelspec": {
   "display_name": "Python 3",
   "language": "python",
   "name": "python3"
  },
  "language_info": {
   "codemirror_mode": {
    "name": "ipython",
    "version": 3
   },
   "file_extension": ".py",
   "mimetype": "text/x-python",
   "name": "python",
   "nbconvert_exporter": "python",
   "pygments_lexer": "ipython3",
   "version": "3.8.3"
  },
  "toc": {
   "base_numbering": 1,
   "nav_menu": {},
   "number_sections": true,
   "sideBar": true,
   "skip_h1_title": false,
   "title_cell": "Table of Contents",
   "title_sidebar": "Contents",
   "toc_cell": false,
   "toc_position": {},
   "toc_section_display": true,
   "toc_window_display": false
  }
 },
 "nbformat": 4,
 "nbformat_minor": 1
}
