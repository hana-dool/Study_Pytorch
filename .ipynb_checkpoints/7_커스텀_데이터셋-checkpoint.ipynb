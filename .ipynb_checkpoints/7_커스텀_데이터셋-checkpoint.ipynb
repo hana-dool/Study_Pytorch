{
 "cells": [
  {
   "cell_type": "markdown",
   "metadata": {
    "colab_type": "text",
    "id": "view-in-github"
   },
   "source": [
    "<a href=\"https://colab.research.google.com/github/hana-dool/Pytorch/blob/master/7_%EC%BB%A4%EC%8A%A4%ED%85%80_%EB%8D%B0%EC%9D%B4%ED%84%B0%EC%85%8B.ipynb\" target=\"_parent\"><img src=\"https://colab.research.google.com/assets/colab-badge.svg\" alt=\"Open In Colab\"/></a>"
   ]
  },
  {
   "cell_type": "markdown",
   "metadata": {
    "colab_type": "text",
    "id": "Nez0vUV_FAsX"
   },
   "source": [
    "앞에서 데이터셋을 다룬것처럼 파이토치에서는 데이터셋을 좀 더 쉽게 다룰 수 있도록 유용한 도구로서 torch.utils.data.Dataset과 torch.utils.data.DataLoader를 제공합니다. 이를 사용하면 미니 배치 학습, 데이터 셔플(shuffle), 병렬 처리까지 간단히 수행할 수 있습니다. 기본적인 사용 방법은 Dataset을 정의하고, 이를 DataLoader에 전달하는 것입니다."
   ]
  },
  {
   "cell_type": "markdown",
   "metadata": {
    "colab_type": "text",
    "id": "31kJvoC5FAo7"
   },
   "source": [
    "# 커스텀 데이터셋"
   ]
  },
  {
   "cell_type": "markdown",
   "metadata": {
    "colab_type": "text",
    "id": "EUR3EyQaFO3_"
   },
   "source": [
    "그런데 torch.utils.data.Dataset을 상속받아 직접 커스텀 데이터셋(Custom Dataset)을 만드는 경우도 있습니다. torch.utils.data.Dataset은 파이토치에서 데이터셋을 제공하는 추상 클래스입니다. Dataset을 상속받아 다음 메소드들을 오버라이드 하여 커스텀 데이터셋을 만들어보겠습니다.\n",
    "\n"
   ]
  },
  {
   "cell_type": "code",
   "execution_count": 2,
   "metadata": {
    "colab": {},
    "colab_type": "code",
    "id": "h7ShDqTNFYIg"
   },
   "outputs": [],
   "source": [
    "import torch"
   ]
  },
  {
   "cell_type": "code",
   "execution_count": 11,
   "metadata": {
    "colab": {},
    "colab_type": "code",
    "id": "5QXpSiXxFRX7"
   },
   "outputs": [
    {
     "ename": "IndentationError",
     "evalue": "expected an indented block (<ipython-input-11-df1435dd0ab4>, line 4)",
     "output_type": "error",
     "traceback": [
      "\u001b[1;36m  File \u001b[1;32m\"<ipython-input-11-df1435dd0ab4>\"\u001b[1;36m, line \u001b[1;32m4\u001b[0m\n\u001b[1;33m    def __len__(self):\u001b[0m\n\u001b[1;37m    ^\u001b[0m\n\u001b[1;31mIndentationError\u001b[0m\u001b[1;31m:\u001b[0m expected an indented block\n"
     ]
    }
   ],
   "source": [
    "class CustomDataset(torch.utils.data.Dataset): \n",
    "    def __init__(self):\n",
    "  #데이터셋의 전처리를 해주는 부분\n",
    "    def __len__(self):\n",
    "  #데이터셋의 길이. 즉, 총 샘플의 수를 적어주는 부분\n",
    "\n",
    "    def __getitem__(self, idx): \n",
    "  #데이터셋에서 특정 1개의 샘플을 가져오는 함수\n",
    "\n",
    "# len(dataset)을 했을 때 데이터셋의 크기를 리턴할 len\n",
    "# dataset[i]을 했을 때 i번째 샘플을 가져오도록 하는 인덱싱을 위한 get_item\n"
   ]
  },
  {
   "cell_type": "code",
   "execution_count": 5,
   "metadata": {
    "colab": {},
    "colab_type": "code",
    "id": "hMUQ75m_FT41"
   },
   "outputs": [],
   "source": [
    "# 커스텀 데이터셋으로 선형회귀 구현하기"
   ]
  },
  {
   "cell_type": "code",
   "execution_count": 6,
   "metadata": {
    "colab": {},
    "colab_type": "code",
    "id": "HEOALjfQFsGw"
   },
   "outputs": [],
   "source": [
    "import torch\n",
    "import torch.nn.functional as F\n",
    "from torch.utils.data import Dataset\n",
    "from torch.utils.data import DataLoader\n"
   ]
  },
  {
   "cell_type": "code",
   "execution_count": 13,
   "metadata": {
    "colab": {},
    "colab_type": "code",
    "id": "jBFrk62lFuaE"
   },
   "outputs": [],
   "source": [
    "# Dataset 상속\n",
    "class CustomDataset(Dataset): \n",
    "  def __init__(self):\n",
    "    self.x_data = [[73, 80, 75],\n",
    "                   [93, 88, 93],\n",
    "                   [89, 91, 90],\n",
    "                   [96, 98, 100],\n",
    "                   [73, 66, 70]]\n",
    "    self.y_data = [[152], [185], [180], [196], [142]]\n",
    "\n",
    "  # 총 데이터의 개수를 리턴\n",
    "  def __len__(self): \n",
    "    return len(self.x_data)\n",
    "\n",
    "  # 인덱스를 입력받아 그에 맵핑되는 입출력 데이터를 파이토치의 Tensor 형태로 리턴\n",
    "  def __getitem__(self, idx): \n",
    "    x = torch.FloatTensor(self.x_data[idx])\n",
    "    y = torch.FloatTensor(self.y_data[idx])\n",
    "    return x, y"
   ]
  },
  {
   "cell_type": "code",
   "execution_count": 8,
   "metadata": {
    "colab": {},
    "colab_type": "code",
    "id": "ZHJJiEWqF37O"
   },
   "outputs": [],
   "source": [
    "dataset = CustomDataset()\n",
    "dataloader = DataLoader(dataset, batch_size=2, shuffle=True)"
   ]
  },
  {
   "cell_type": "code",
   "execution_count": 9,
   "metadata": {
    "colab": {},
    "colab_type": "code",
    "id": "Q6WTvWA3F61F"
   },
   "outputs": [],
   "source": [
    "model = torch.nn.Linear(3,1)\n",
    "optimizer = torch.optim.SGD(model.parameters(), lr=1e-5) \n"
   ]
  },
  {
   "cell_type": "code",
   "execution_count": 10,
   "metadata": {
    "colab": {
     "base_uri": "https://localhost:8080/",
     "height": 1000
    },
    "colab_type": "code",
    "id": "CWCtfAsmF8OF",
    "outputId": "be9d068c-13ce-4634-fe5c-68e146896ae9"
   },
   "outputs": [
    {
     "name": "stdout",
     "output_type": "stream",
     "text": [
      "Epoch    0/20 Batch 1/3 Cost: 72870.968750\n",
      "Epoch    0/20 Batch 2/3 Cost: 12106.375977\n",
      "Epoch    0/20 Batch 3/3 Cost: 2910.621094\n",
      "Epoch    1/20 Batch 1/3 Cost: 2108.669678\n",
      "Epoch    1/20 Batch 2/3 Cost: 699.662048\n",
      "Epoch    1/20 Batch 3/3 Cost: 235.289276\n",
      "Epoch    2/20 Batch 1/3 Cost: 55.499268\n",
      "Epoch    2/20 Batch 2/3 Cost: 27.907860\n",
      "Epoch    2/20 Batch 3/3 Cost: 5.577384\n",
      "Epoch    3/20 Batch 1/3 Cost: 1.951240\n",
      "Epoch    3/20 Batch 2/3 Cost: 0.660300\n",
      "Epoch    3/20 Batch 3/3 Cost: 2.174473\n",
      "Epoch    4/20 Batch 1/3 Cost: 0.067984\n",
      "Epoch    4/20 Batch 2/3 Cost: 0.553843\n",
      "Epoch    4/20 Batch 3/3 Cost: 0.779196\n",
      "Epoch    5/20 Batch 1/3 Cost: 0.159321\n",
      "Epoch    5/20 Batch 2/3 Cost: 0.198843\n",
      "Epoch    5/20 Batch 3/3 Cost: 1.376547\n",
      "Epoch    6/20 Batch 1/3 Cost: 0.544617\n",
      "Epoch    6/20 Batch 2/3 Cost: 0.492755\n",
      "Epoch    6/20 Batch 3/3 Cost: 0.007916\n",
      "Epoch    7/20 Batch 1/3 Cost: 0.358467\n",
      "Epoch    7/20 Batch 2/3 Cost: 0.570804\n",
      "Epoch    7/20 Batch 3/3 Cost: 0.402017\n",
      "Epoch    8/20 Batch 1/3 Cost: 0.192547\n",
      "Epoch    8/20 Batch 2/3 Cost: 0.832317\n",
      "Epoch    8/20 Batch 3/3 Cost: 0.331095\n",
      "Epoch    9/20 Batch 1/3 Cost: 0.181978\n",
      "Epoch    9/20 Batch 2/3 Cost: 0.179916\n",
      "Epoch    9/20 Batch 3/3 Cost: 1.290916\n",
      "Epoch   10/20 Batch 1/3 Cost: 0.796397\n",
      "Epoch   10/20 Batch 2/3 Cost: 0.222731\n",
      "Epoch   10/20 Batch 3/3 Cost: 0.002045\n",
      "Epoch   11/20 Batch 1/3 Cost: 0.323500\n",
      "Epoch   11/20 Batch 2/3 Cost: 0.643266\n",
      "Epoch   11/20 Batch 3/3 Cost: 0.131375\n",
      "Epoch   12/20 Batch 1/3 Cost: 0.362161\n",
      "Epoch   12/20 Batch 2/3 Cost: 0.568617\n",
      "Epoch   12/20 Batch 3/3 Cost: 0.266373\n",
      "Epoch   13/20 Batch 1/3 Cost: 0.685067\n",
      "Epoch   13/20 Batch 2/3 Cost: 0.247324\n",
      "Epoch   13/20 Batch 3/3 Cost: 0.259503\n",
      "Epoch   14/20 Batch 1/3 Cost: 0.383006\n",
      "Epoch   14/20 Batch 2/3 Cost: 0.830670\n",
      "Epoch   14/20 Batch 3/3 Cost: 0.108720\n",
      "Epoch   15/20 Batch 1/3 Cost: 0.622164\n",
      "Epoch   15/20 Batch 2/3 Cost: 0.724710\n",
      "Epoch   15/20 Batch 3/3 Cost: 0.087186\n",
      "Epoch   16/20 Batch 1/3 Cost: 0.231229\n",
      "Epoch   16/20 Batch 2/3 Cost: 0.338000\n",
      "Epoch   16/20 Batch 3/3 Cost: 1.139860\n",
      "Epoch   17/20 Batch 1/3 Cost: 0.587477\n",
      "Epoch   17/20 Batch 2/3 Cost: 0.139184\n",
      "Epoch   17/20 Batch 3/3 Cost: 1.040502\n",
      "Epoch   18/20 Batch 1/3 Cost: 0.964945\n",
      "Epoch   18/20 Batch 2/3 Cost: 0.701156\n",
      "Epoch   18/20 Batch 3/3 Cost: 0.006614\n",
      "Epoch   19/20 Batch 1/3 Cost: 0.400754\n",
      "Epoch   19/20 Batch 2/3 Cost: 0.966237\n",
      "Epoch   19/20 Batch 3/3 Cost: 0.055197\n",
      "Epoch   20/20 Batch 1/3 Cost: 0.560793\n",
      "Epoch   20/20 Batch 2/3 Cost: 0.761860\n",
      "Epoch   20/20 Batch 3/3 Cost: 0.081419\n"
     ]
    }
   ],
   "source": [
    "nb_epochs = 20\n",
    "for epoch in range(nb_epochs + 1):\n",
    "  for batch_idx, samples in enumerate(dataloader):\n",
    "    # print(batch_idx)\n",
    "    # print(samples)\n",
    "    x_train, y_train = samples\n",
    "    # H(x) 계산\n",
    "    prediction = model(x_train)\n",
    "\n",
    "    # cost 계산\n",
    "    cost = F.mse_loss(prediction, y_train)\n",
    "\n",
    "    # cost로 H(x) 계산\n",
    "    optimizer.zero_grad()\n",
    "    cost.backward()\n",
    "    optimizer.step()\n",
    "\n",
    "    print('Epoch {:4d}/{} Batch {}/{} Cost: {:.6f}'.format(\n",
    "        epoch, nb_epochs, batch_idx+1, len(dataloader),\n",
    "        cost.item()\n",
    "        ))\n"
   ]
  },
  {
   "cell_type": "code",
   "execution_count": 12,
   "metadata": {
    "colab": {
     "base_uri": "https://localhost:8080/",
     "height": 35
    },
    "colab_type": "code",
    "id": "hvN72lYhF9tT",
    "outputId": "dd13bac3-afef-4936-adee-616457e69fa3"
   },
   "outputs": [
    {
     "name": "stdout",
     "output_type": "stream",
     "text": [
      "훈련 후 입력이 73, 80, 75일 때의 예측값 : tensor([[150.9921]], grad_fn=<AddmmBackward>)\n"
     ]
    }
   ],
   "source": [
    "# 임의의 입력 [73, 80, 75]를 선언\n",
    "new_var =  torch.FloatTensor([[73, 80, 75]]) \n",
    "# 입력한 값 [73, 80, 75]에 대해서 예측값 y를 리턴받아서 pred_y에 저장\n",
    "pred_y = model(new_var) \n",
    "print(\"훈련 후 입력이 73, 80, 75일 때의 예측값 :\", pred_y) "
   ]
  },
  {
   "cell_type": "code",
   "execution_count": null,
   "metadata": {
    "colab": {},
    "colab_type": "code",
    "id": "c6jCJSsMF_ei"
   },
   "outputs": [],
   "source": []
  }
 ],
 "metadata": {
  "colab": {
   "authorship_tag": "ABX9TyMlBCR5tDOvYCBRccPRE6Xx",
   "include_colab_link": true,
   "name": "7.커스텀 데이터셋",
   "provenance": []
  },
  "kernelspec": {
   "display_name": "Python 3",
   "language": "python",
   "name": "python3"
  },
  "language_info": {
   "codemirror_mode": {
    "name": "ipython",
    "version": 3
   },
   "file_extension": ".py",
   "mimetype": "text/x-python",
   "name": "python",
   "nbconvert_exporter": "python",
   "pygments_lexer": "ipython3",
   "version": "3.8.3"
  },
  "toc": {
   "base_numbering": 1,
   "nav_menu": {},
   "number_sections": true,
   "sideBar": true,
   "skip_h1_title": false,
   "title_cell": "Table of Contents",
   "title_sidebar": "Contents",
   "toc_cell": false,
   "toc_position": {},
   "toc_section_display": true,
   "toc_window_display": true
  }
 },
 "nbformat": 4,
 "nbformat_minor": 1
}
