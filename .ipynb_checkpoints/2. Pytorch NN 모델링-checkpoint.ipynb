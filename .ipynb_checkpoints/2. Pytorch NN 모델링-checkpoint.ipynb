{
 "cells": [
  {
   "cell_type": "markdown",
   "metadata": {
    "colab_type": "text",
    "id": "view-in-github"
   },
   "source": [
    "<a href=\"https://colab.research.google.com/github/hana-dool/Pytorch/blob/master/10.NN.ipynb\" target=\"_parent\"><img src=\"https://colab.research.google.com/assets/colab-badge.svg\" alt=\"Open In Colab\"/></a>"
   ]
  },
  {
   "cell_type": "markdown",
   "metadata": {
    "colab_type": "text",
    "id": "Ow2zRgifYCeR"
   },
   "source": [
    "# 기본 setting"
   ]
  },
  {
   "cell_type": "markdown",
   "metadata": {
    "colab_type": "text",
    "id": "tFaUIYAoXvHC"
   },
   "source": [
    "우선 필요한 도구를 임포트하고, GPU 연산이 가능할 경우에는 GPU 연산을 할 수 있도록 설정해줍니다."
   ]
  },
  {
   "cell_type": "code",
   "execution_count": 147,
   "metadata": {
    "ExecuteTime": {
     "end_time": "2020-07-30T07:43:56.470618Z",
     "start_time": "2020-07-30T07:43:56.449610Z"
    },
    "colab": {},
    "colab_type": "code",
    "id": "cXTvJIciX-Cn"
   },
   "outputs": [],
   "source": [
    "import torch\n",
    "import torch.nn as nn \n",
    "device = 'cuda' if torch.cuda.is_available() else 'cpu'\n",
    "torch.manual_seed(777) # 기본 torch 의 random 고정\n",
    "if device == 'cuda':\n",
    "    torch.cuda.manual_seed_all(777) # gpu 사용시 random 고정"
   ]
  },
  {
   "cell_type": "markdown",
   "metadata": {
    "colab_type": "text",
    "id": "dMXnLp89YJlg"
   },
   "source": [
    "# Data setting"
   ]
  },
  {
   "cell_type": "code",
   "execution_count": 148,
   "metadata": {
    "ExecuteTime": {
     "end_time": "2020-07-30T07:43:56.781480Z",
     "start_time": "2020-07-30T07:43:56.775497Z"
    },
    "colab": {},
    "colab_type": "code",
    "id": "rLawGv4dX-QR"
   },
   "outputs": [],
   "source": [
    "X = torch.FloatTensor([[0, 0], [0, 1], [1, 0], [1, 1]]).to(device) # to('gpu') : gpu 에 텐서를 복사본을 생성해 저장\n",
    "Y = torch.FloatTensor([[0], [1], [1], [0]]).to(device)"
   ]
  },
  {
   "cell_type": "markdown",
   "metadata": {
    "colab_type": "text",
    "id": "TgChUyscYI1s"
   },
   "source": [
    "# Model(단층 퍼셉트론) construct"
   ]
  },
  {
   "cell_type": "markdown",
   "metadata": {
    "colab_type": "text",
    "id": "2kpyhen8am46"
   },
   "source": [
    "1개의 뉴런<br>\n",
    "활성화 함수는 sigmoid<br>\n",
    "x input 은 특성이 2개<br>\n",
    "y output 은 특성이 1개 (0,1 class)<br>"
   ]
  },
  {
   "cell_type": "code",
   "execution_count": 149,
   "metadata": {
    "ExecuteTime": {
     "end_time": "2020-07-30T07:43:57.156013Z",
     "start_time": "2020-07-30T07:43:57.135055Z"
    },
    "colab": {},
    "colab_type": "code",
    "id": "Sq0i3tF4Ynft"
   },
   "outputs": [],
   "source": [
    "linear = nn.Linear(2, 1, bias=True)\n",
    "sigmoid = nn.Sigmoid()\n",
    "model = nn.Sequential(linear, sigmoid).to(device)"
   ]
  },
  {
   "cell_type": "code",
   "execution_count": 150,
   "metadata": {
    "ExecuteTime": {
     "end_time": "2020-07-30T07:43:57.264658Z",
     "start_time": "2020-07-30T07:43:57.257652Z"
    },
    "colab": {},
    "colab_type": "code",
    "id": "EI7LOk4zYpjS"
   },
   "outputs": [],
   "source": [
    "# 0 또는 1을 예측하는 이진 분류 문제이므로 비용 함수로는 크로스엔트로피 함수를 사용합니다.\n",
    "# 비용 함수와 옵티마이저 정의\n",
    "criterion = torch.nn.BCELoss().to(device) # nn.BCEloss() 는 이진분류에서 사용하는 크로스 엔트로피 함수\n",
    "\n",
    "# GPU CUDA를 사용할 계획이라면 optimizer를 정의하기 전에 미리 해놓아야 한다 (model 에서)\n",
    "# optimizer는 argument로 model의 parameter를 입력받는다.\n",
    "#.cuda()를 쓰면 모델의 parameter가 cpu 대신 gpu에 올라가는 것이므로 다른 object가 된다.\n",
    "# 따라서 optimizer에 model parameter의 위치를 전달한 후 model 에다가 .cuda()를 실행하면, 학습시켜야 할 parameter는 GPU에 올라가 있는데 optimizer는 cpu에 올라간 엉뚱한 parameter 위치를 참조하고 있는 것이 된다.\n",
    "optimizer = torch.optim.SGD(model.parameters(), lr=1)\n"
   ]
  },
  {
   "cell_type": "code",
   "execution_count": 151,
   "metadata": {
    "ExecuteTime": {
     "end_time": "2020-07-30T07:43:57.422737Z",
     "start_time": "2020-07-30T07:43:57.375863Z"
    },
    "colab": {
     "base_uri": "https://localhost:8080/",
     "height": 197
    },
    "colab_type": "code",
    "id": "3Kg-cFQLaZlq",
    "outputId": "012f8a3d-442d-4b6a-c95b-d0c2e362ba64"
   },
   "outputs": [
    {
     "name": "stdout",
     "output_type": "stream",
     "text": [
      "0 0.7273974418640137\n",
      "10 0.6951164603233337\n",
      "20 0.6937781572341919\n",
      "30 0.6933605670928955\n",
      "40 0.6932238340377808\n",
      "50 0.69317626953125\n",
      "60 0.6931588053703308\n",
      "70 0.6931519508361816\n",
      "80 0.6931492686271667\n",
      "90 0.6931480765342712\n"
     ]
    }
   ],
   "source": [
    "for step in range(100): \n",
    "    optimizer.zero_grad()\n",
    "    hypothesis = model(X)\n",
    "\n",
    "    # 비용 함수\n",
    "    cost = criterion(hypothesis, Y)\n",
    "    cost.backward()\n",
    "    optimizer.step()\n",
    "\n",
    "    if step % 10 == 0: # 100번째 에포크마다 비용 출력\n",
    "        print(step, cost.item())"
   ]
  },
  {
   "cell_type": "code",
   "execution_count": 152,
   "metadata": {
    "ExecuteTime": {
     "end_time": "2020-07-30T07:43:57.516569Z",
     "start_time": "2020-07-30T07:43:57.501606Z"
    },
    "colab": {
     "base_uri": "https://localhost:8080/",
     "height": 251
    },
    "colab_type": "code",
    "id": "kstQJMiYbIRc",
    "outputId": "e3ef2d1c-10e6-4619-db70-b761161bb039"
   },
   "outputs": [
    {
     "name": "stdout",
     "output_type": "stream",
     "text": [
      "모델의 출력값(Hypothesis):  [[0.5007058 ]\n",
      " [0.5002256 ]\n",
      " [0.4999959 ]\n",
      " [0.49951577]]\n",
      "모델의 예측값(Predicted):  [[1.]\n",
      " [1.]\n",
      " [0.]\n",
      " [0.]]\n",
      "실제값(Y):  [[0.]\n",
      " [1.]\n",
      " [1.]\n",
      " [0.]]\n",
      "정확도(Accuracy):  0.5\n"
     ]
    }
   ],
   "source": [
    "# with 을 torch.no_grad() 와 같이 적용된다고 하면 업데이팅이 되지 않는다.\n",
    "with torch.no_grad():\n",
    "    hypothesis = model(X)\n",
    "    predicted = (hypothesis > 0.5).float() # 0.5 를 threshold 로 정하자.\n",
    "    accuracy = (predicted == Y).float().mean() \n",
    "    # float() 을 취함으로서 True -> 1 / Fasle -> 0\n",
    "    # mean() 을 취함으로서, accuracy 를 계산한다.\n",
    "    print('모델의 출력값(Hypothesis): ', hypothesis.detach().cpu().numpy())\n",
    "    print('모델의 예측값(Predicted): ', predicted.detach().cpu().numpy())\n",
    "    print('실제값(Y): ', Y.cpu().numpy())\n",
    "    print('정확도(Accuracy): ', accuracy.item())"
   ]
  },
  {
   "cell_type": "markdown",
   "metadata": {
    "colab_type": "text",
    "id": "k5k4PyIYZOe9"
   },
   "source": [
    "# Model(다층 퍼셉트론) construct"
   ]
  },
  {
   "cell_type": "code",
   "execution_count": 153,
   "metadata": {
    "ExecuteTime": {
     "end_time": "2020-07-30T07:43:57.765925Z",
     "start_time": "2020-07-30T07:43:57.750920Z"
    },
    "colab": {},
    "colab_type": "code",
    "id": "T-mC1-yRbcjP"
   },
   "outputs": [],
   "source": [
    "model = nn.Sequential(\n",
    "          nn.Linear(2, 10, bias=True), # input_layer = 2, hidden_layer1 = 10\n",
    "          nn.Sigmoid(),\n",
    "          nn.Linear(10, 10, bias=True), # hidden_layer1 = 10, hidden_layer2 = 10\n",
    "          nn.Sigmoid(),\n",
    "          nn.Linear(10, 10, bias=True), # hidden_layer2 = 10, hidden_layer3 = 10\n",
    "          nn.Sigmoid(),\n",
    "          nn.Linear(10, 1, bias=True), # hidden_layer3 = 10, output_layer = 1\n",
    "          nn.Sigmoid()).to(device)"
   ]
  },
  {
   "cell_type": "code",
   "execution_count": 154,
   "metadata": {
    "ExecuteTime": {
     "end_time": "2020-07-30T07:43:57.890037Z",
     "start_time": "2020-07-30T07:43:57.876107Z"
    },
    "colab": {},
    "colab_type": "code",
    "id": "QJ5ocVwFbewD"
   },
   "outputs": [],
   "source": [
    "criterion = torch.nn.BCELoss().to(device)\n",
    "optimizer = torch.optim.SGD(model.parameters(), lr=1)  # modified learning rate from 0.1 to 1"
   ]
  },
  {
   "cell_type": "code",
   "execution_count": 155,
   "metadata": {
    "ExecuteTime": {
     "end_time": "2020-07-30T07:43:58.548298Z",
     "start_time": "2020-07-30T07:43:57.991525Z"
    },
    "colab": {
     "base_uri": "https://localhost:8080/",
     "height": 197
    },
    "colab_type": "code",
    "id": "MxhMieOabv6-",
    "outputId": "d25dc53c-c0cf-47b6-ba4b-a6c7c9c493b9"
   },
   "outputs": [
    {
     "name": "stdout",
     "output_type": "stream",
     "text": [
      "epoch :   0   cost : 0.6941\n",
      "epoch : 100   cost : 0.6931\n",
      "epoch : 200   cost : 0.6931\n",
      "epoch : 300   cost : 0.6931\n",
      "epoch : 400   cost : 0.6931\n",
      "epoch : 500   cost : 0.6931\n",
      "epoch : 600   cost : 0.6931\n",
      "epoch : 700   cost : 0.6931\n",
      "epoch : 800   cost : 0.6931\n",
      "epoch : 900   cost : 0.6931\n"
     ]
    }
   ],
   "source": [
    "for epoch in range(1000):\n",
    "    optimizer.zero_grad()\n",
    "    # forward 연산\n",
    "    hypothesis = model(X)\n",
    "\n",
    "    # 비용 함수\n",
    "    cost = criterion(hypothesis, Y)\n",
    "    cost.backward()\n",
    "    optimizer.step()\n",
    "\n",
    "    # 100의 배수에 해당되는 에포크마다 비용을 출력\n",
    "    if epoch % 100 == 0:\n",
    "        print('epoch : {0:3d}   cost : {1:.4f}'.format(epoch, cost.item()))\n"
   ]
  },
  {
   "cell_type": "code",
   "execution_count": 156,
   "metadata": {
    "ExecuteTime": {
     "end_time": "2020-07-30T07:43:58.563763Z",
     "start_time": "2020-07-30T07:43:58.550263Z"
    },
    "colab": {
     "base_uri": "https://localhost:8080/",
     "height": 251
    },
    "colab_type": "code",
    "id": "QEiSHxwib0Gg",
    "outputId": "e4502084-ac79-4250-c5f8-a5e1eb9bd421",
    "scrolled": true
   },
   "outputs": [
    {
     "name": "stdout",
     "output_type": "stream",
     "text": [
      "모델의 출력값(Hypothesis):  [[0.4991978 ]\n",
      " [0.49959978]\n",
      " [0.5004729 ]\n",
      " [0.5006879 ]]\n",
      "모델의 예측값(Predicted):  [[0.]\n",
      " [0.]\n",
      " [1.]\n",
      " [1.]]\n",
      "실제값(Y):  [[0.]\n",
      " [1.]\n",
      " [1.]\n",
      " [0.]]\n",
      "정확도(Accuracy):  0.5\n"
     ]
    }
   ],
   "source": [
    "with torch.no_grad():\n",
    "    hypothesis = model(X)\n",
    "    predicted = (hypothesis > 0.5).float()\n",
    "    accuracy = (predicted == Y).float().mean()\n",
    "    print('모델의 출력값(Hypothesis): ', hypothesis.detach().cpu().numpy())\n",
    "    print('모델의 예측값(Predicted): ', predicted.detach().cpu().numpy())\n",
    "    print('실제값(Y): ', Y.cpu().numpy())\n",
    "    print('정확도(Accuracy): ', accuracy.item())"
   ]
  },
  {
   "cell_type": "markdown",
   "metadata": {},
   "source": [
    "# Mnist 예제"
   ]
  },
  {
   "cell_type": "code",
   "execution_count": 157,
   "metadata": {
    "ExecuteTime": {
     "end_time": "2020-07-30T07:43:58.642477Z",
     "start_time": "2020-07-30T07:43:58.565757Z"
    },
    "colab": {},
    "colab_type": "code",
    "id": "z_FKIb8LfvB9"
   },
   "outputs": [],
   "source": [
    "%matplotlib inline\n",
    "import matplotlib.pyplot as plt # 시각화를 위한 맷플롯립\n",
    "from sklearn.datasets import load_digits\n",
    "digits = load_digits() # 1,979개의 이미지 데이터 로드"
   ]
  },
  {
   "cell_type": "code",
   "execution_count": 158,
   "metadata": {
    "ExecuteTime": {
     "end_time": "2020-07-30T07:43:58.657453Z",
     "start_time": "2020-07-30T07:43:58.643498Z"
    },
    "colab": {
     "base_uri": "https://localhost:8080/",
     "height": 161
    },
    "colab_type": "code",
    "id": "UwfO90vLgLZR",
    "outputId": "cabd8180-478d-4be5-b0df-583c9228db50"
   },
   "outputs": [
    {
     "name": "stdout",
     "output_type": "stream",
     "text": [
      "[[ 0.  0.  5. 13.  9.  1.  0.  0.]\n",
      " [ 0.  0. 13. 15. 10. 15.  5.  0.]\n",
      " [ 0.  3. 15.  2.  0. 11.  8.  0.]\n",
      " [ 0.  4. 12.  0.  0.  8.  8.  0.]\n",
      " [ 0.  5.  8.  0.  0.  9.  8.  0.]\n",
      " [ 0.  4. 11.  0.  1. 12.  7.  0.]\n",
      " [ 0.  2. 14.  5. 10. 12.  0.  0.]\n",
      " [ 0.  0.  6. 13. 10.  0.  0.  0.]]\n"
     ]
    }
   ],
   "source": [
    "print(digits.images[0])"
   ]
  },
  {
   "cell_type": "code",
   "execution_count": 159,
   "metadata": {
    "ExecuteTime": {
     "end_time": "2020-07-30T07:43:58.673402Z",
     "start_time": "2020-07-30T07:43:58.659413Z"
    },
    "colab": {
     "base_uri": "https://localhost:8080/",
     "height": 35
    },
    "colab_type": "code",
    "id": "7Fm9QbGtgN1E",
    "outputId": "4500c48b-0dd3-4e5c-fef6-eb96b1c0e910"
   },
   "outputs": [
    {
     "name": "stdout",
     "output_type": "stream",
     "text": [
      "0\n"
     ]
    }
   ],
   "source": [
    "print(digits.target[0])"
   ]
  },
  {
   "cell_type": "code",
   "execution_count": 160,
   "metadata": {
    "ExecuteTime": {
     "end_time": "2020-07-30T07:43:58.766855Z",
     "start_time": "2020-07-30T07:43:58.749862Z"
    },
    "colab": {
     "base_uri": "https://localhost:8080/",
     "height": 35
    },
    "colab_type": "code",
    "id": "fjcMm5OFgREf",
    "outputId": "2cd3f671-007e-49be-9298-7273ac78fc37"
   },
   "outputs": [
    {
     "name": "stdout",
     "output_type": "stream",
     "text": [
      "전체 샘플의 수 : 1797\n"
     ]
    }
   ],
   "source": [
    "print('전체 샘플의 수 : {}'.format(len(digits.images)))"
   ]
  },
  {
   "cell_type": "code",
   "execution_count": 161,
   "metadata": {
    "ExecuteTime": {
     "end_time": "2020-07-30T07:43:58.890609Z",
     "start_time": "2020-07-30T07:43:58.877644Z"
    },
    "colab": {
     "base_uri": "https://localhost:8080/",
     "height": 35
    },
    "colab_type": "code",
    "id": "QCvUOT5igT9_",
    "outputId": "a188c1ae-8a0a-4703-ef7d-f650a2bc7ce1"
   },
   "outputs": [
    {
     "data": {
      "text/plain": [
       "(1797, 8, 8)"
      ]
     },
     "execution_count": 161,
     "metadata": {},
     "output_type": "execute_result"
    }
   ],
   "source": [
    "digits.images.shape"
   ]
  },
  {
   "cell_type": "code",
   "execution_count": 162,
   "metadata": {
    "ExecuteTime": {
     "end_time": "2020-07-30T07:43:59.268599Z",
     "start_time": "2020-07-30T07:43:59.078110Z"
    },
    "colab": {
     "base_uri": "https://localhost:8080/",
     "height": 105
    },
    "colab_type": "code",
    "id": "Dv905A_xgVaE",
    "outputId": "539e27ff-ac97-4ff7-8eea-91ad404365a4"
   },
   "outputs": [
    {
     "data": {
      "image/png": "[encoded data removed]",
      "text/plain": [
       "<Figure size 432x288 with 5 Axes>"
      ]
     },
     "metadata": {
      "needs_background": "light"
     },
     "output_type": "display_data"
    }
   ],
   "source": [
    "images_and_labels = list(zip(digits.images, digits.target))\n",
    "for index, (image, label) in enumerate(images_and_labels[:5]): # 5개의 샘플만 출력\n",
    "    plt.subplot(2, 5, index + 1)\n",
    "    plt.axis('off')\n",
    "    plt.imshow(image, cmap=plt.cm.gray_r, interpolation='nearest')\n",
    "    plt.title('sample: %i' % label)"
   ]
  },
  {
   "cell_type": "code",
   "execution_count": 163,
   "metadata": {
    "ExecuteTime": {
     "end_time": "2020-07-30T07:43:59.283560Z",
     "start_time": "2020-07-30T07:43:59.270594Z"
    },
    "colab": {
     "base_uri": "https://localhost:8080/",
     "height": 107
    },
    "colab_type": "code",
    "id": "-rYRlTjAgrfe",
    "outputId": "d306b1c5-bb11-4a6a-b4e8-15e1fc09d0b9"
   },
   "outputs": [
    {
     "name": "stdout",
     "output_type": "stream",
     "text": [
      "0 번 인덱스 샘플의 레이블 :  0\n",
      "1 번 인덱스 샘플의 레이블 :  1\n",
      "2 번 인덱스 샘플의 레이블 :  2\n",
      "3 번 인덱스 샘플의 레이블 :  3\n",
      "4 번 인덱스 샘플의 레이블 :  4\n"
     ]
    }
   ],
   "source": [
    "for i in range(5):\n",
    "    print(i,'번 인덱스 샘플의 레이블 : ',digits.target[i])"
   ]
  },
  {
   "cell_type": "code",
   "execution_count": 164,
   "metadata": {
    "ExecuteTime": {
     "end_time": "2020-07-30T07:43:59.379303Z",
     "start_time": "2020-07-30T07:43:59.361353Z"
    },
    "colab": {
     "base_uri": "https://localhost:8080/",
     "height": 89
    },
    "colab_type": "code",
    "id": "bLT33caKg3uM",
    "outputId": "768bbe7b-a9fe-4d48-8e2c-86cc5c7d358f"
   },
   "outputs": [
    {
     "name": "stdout",
     "output_type": "stream",
     "text": [
      "[ 0.  0.  5. 13.  9.  1.  0.  0.  0.  0. 13. 15. 10. 15.  5.  0.  0.  3.\n",
      " 15.  2.  0. 11.  8.  0.  0.  4. 12.  0.  0.  8.  8.  0.  0.  5.  8.  0.\n",
      "  0.  9.  8.  0.  0.  4. 11.  0.  1. 12.  7.  0.  0.  2. 14.  5. 10. 12.\n",
      "  0.  0.  0.  0.  6. 13. 10.  0.  0.  0.]\n"
     ]
    }
   ],
   "source": [
    "print(digits.data[0])  # digit data 에는 8*8 matrix 형태가 아니라 1dim 의 array 형태로 저장되어있다."
   ]
  },
  {
   "cell_type": "code",
   "execution_count": 165,
   "metadata": {
    "ExecuteTime": {
     "end_time": "2020-07-30T07:43:59.516533Z",
     "start_time": "2020-07-30T07:43:59.502547Z"
    },
    "colab": {},
    "colab_type": "code",
    "id": "dMcMydGtgvJe"
   },
   "outputs": [],
   "source": [
    "X = digits.data # 이미지. 즉, 특성 행렬 \n",
    "Y = digits.target # 각 이미지에 대한 레이블"
   ]
  },
  {
   "cell_type": "code",
   "execution_count": 166,
   "metadata": {
    "ExecuteTime": {
     "end_time": "2020-07-30T07:43:59.872991Z",
     "start_time": "2020-07-30T07:43:59.860002Z"
    },
    "colab": {},
    "colab_type": "code",
    "id": "0jSclx_rg1ge"
   },
   "outputs": [],
   "source": [
    "import torch\n",
    "import torch.nn as nn\n",
    "from torch import optim"
   ]
  },
  {
   "cell_type": "code",
   "execution_count": 167,
   "metadata": {
    "ExecuteTime": {
     "end_time": "2020-07-30T07:44:00.011848Z",
     "start_time": "2020-07-30T07:44:00.006861Z"
    },
    "colab": {},
    "colab_type": "code",
    "id": "q8DdgKhXhDsX"
   },
   "outputs": [],
   "source": [
    "model = nn.Sequential(\n",
    "    nn.Linear(64, 32), # input_layer = 64, hidden_layer1 = 32\n",
    "    nn.ReLU(), # activation relu \n",
    "    nn.Linear(32, 16), # hidden_layer2 = 32, hidden_layer3 = 16\n",
    "    nn.ReLU(),\n",
    "    nn.Linear(16, 10) # hidden_layer3 = 16, output_layer = 10\n",
    ")"
   ]
  },
  {
   "cell_type": "code",
   "execution_count": 168,
   "metadata": {
    "ExecuteTime": {
     "end_time": "2020-07-30T07:44:00.199914Z",
     "start_time": "2020-07-30T07:44:00.192960Z"
    },
    "colab": {},
    "colab_type": "code",
    "id": "81Samw69hLSB"
   },
   "outputs": [],
   "source": [
    "X = torch.tensor(X, dtype=torch.float32)\n",
    "Y = torch.tensor(Y, dtype=torch.int64)"
   ]
  },
  {
   "cell_type": "code",
   "execution_count": 169,
   "metadata": {
    "ExecuteTime": {
     "end_time": "2020-07-30T07:44:00.450440Z",
     "start_time": "2020-07-30T07:44:00.440879Z"
    },
    "colab": {},
    "colab_type": "code",
    "id": "kiJKk2nghNRN"
   },
   "outputs": [],
   "source": [
    "loss_fn = nn.CrossEntropyLoss() # 이 비용 함수는 소프트맥스 함수를 포함하고 있음."
   ]
  },
  {
   "cell_type": "code",
   "execution_count": 170,
   "metadata": {
    "ExecuteTime": {
     "end_time": "2020-07-30T07:44:00.984870Z",
     "start_time": "2020-07-30T07:44:00.953148Z"
    },
    "colab": {},
    "colab_type": "code",
    "id": "ELCtHpFthRRx"
   },
   "outputs": [],
   "source": [
    "optimizer = optim.Adam(model.parameters())"
   ]
  },
  {
   "cell_type": "code",
   "execution_count": 171,
   "metadata": {
    "ExecuteTime": {
     "end_time": "2020-07-30T07:44:01.186359Z",
     "start_time": "2020-07-30T07:44:01.172362Z"
    },
    "colab": {},
    "colab_type": "code",
    "id": "sO9AytduhSuq"
   },
   "outputs": [],
   "source": [
    "losses = []"
   ]
  },
  {
   "cell_type": "code",
   "execution_count": 172,
   "metadata": {
    "ExecuteTime": {
     "end_time": "2020-07-30T07:44:01.625815Z",
     "start_time": "2020-07-30T07:44:01.340212Z"
    },
    "colab": {
     "base_uri": "https://localhost:8080/",
     "height": 197
    },
    "colab_type": "code",
    "id": "3NUMdTHmhT_s",
    "outputId": "da031f56-06b2-4659-b2d8-eddb072b84e1"
   },
   "outputs": [
    {
     "name": "stdout",
     "output_type": "stream",
     "text": [
      "Epoch    0/100 Cost: 2.661196\n",
      "Epoch   10/100 Cost: 2.184337\n",
      "Epoch   20/100 Cost: 1.999104\n",
      "Epoch   30/100 Cost: 1.795641\n",
      "Epoch   40/100 Cost: 1.572134\n",
      "Epoch   50/100 Cost: 1.335511\n",
      "Epoch   60/100 Cost: 1.085608\n",
      "Epoch   70/100 Cost: 0.832515\n",
      "Epoch   80/100 Cost: 0.610715\n",
      "Epoch   90/100 Cost: 0.455051\n"
     ]
    }
   ],
   "source": [
    "for epoch in range(100):\n",
    "    optimizer.zero_grad() # zero 초기화\n",
    "    y_pred = model(X) # forwar 연산\n",
    "    loss = loss_fn(y_pred, Y)\n",
    "    loss.backward()\n",
    "    optimizer.step()\n",
    "\n",
    "    if epoch % 10 == 0:\n",
    "        print('Epoch {:4d}/{} Cost: {:.6f}'.format(\n",
    "            epoch, 100, loss.item()\n",
    "        ))\n",
    "\n",
    "    losses.append(loss.item())"
   ]
  },
  {
   "cell_type": "code",
   "execution_count": 173,
   "metadata": {
    "ExecuteTime": {
     "end_time": "2020-07-30T07:44:01.794639Z",
     "start_time": "2020-07-30T07:44:01.627810Z"
    },
    "colab": {
     "base_uri": "https://localhost:8080/",
     "height": 283
    },
    "colab_type": "code",
    "id": "5gxRr77AhVrK",
    "outputId": "e1640cba-6cfc-4394-fe79-aef9c5555912"
   },
   "outputs": [
    {
     "data": {
      "text/plain": [
       "[<matplotlib.lines.Line2D at 0x23fad01fa30>]"
      ]
     },
     "execution_count": 173,
     "metadata": {},
     "output_type": "execute_result"
    },
    {
     "data": {
      "image/png": "[encoded data removed]",
      "text/plain": [
       "<Figure size 432x288 with 1 Axes>"
      ]
     },
     "metadata": {
      "needs_background": "light"
     },
     "output_type": "display_data"
    }
   ],
   "source": [
    "plt.plot(losses)"
   ]
  },
  {
   "cell_type": "markdown",
   "metadata": {},
   "source": [
    "# digit data set "
   ]
  },
  {
   "cell_type": "markdown",
   "metadata": {},
   "source": [
    "## 데이터 전처리"
   ]
  },
  {
   "cell_type": "code",
   "execution_count": 174,
   "metadata": {
    "ExecuteTime": {
     "end_time": "2020-07-30T07:44:02.691431Z",
     "start_time": "2020-07-30T07:44:02.676899Z"
    },
    "colab": {},
    "colab_type": "code",
    "id": "bELyfJg4zWRR"
   },
   "outputs": [],
   "source": [
    "import torch\n",
    "from torch import nn\n",
    "from torch import optim\n",
    "from torch.utils.data import TensorDataset \n",
    "from torch.utils.data import DataLoader\n",
    "import pandas as pd\n",
    "import matplotlib.pyplot as plt"
   ]
  },
  {
   "cell_type": "code",
   "execution_count": 175,
   "metadata": {
    "ExecuteTime": {
     "end_time": "2020-07-30T07:44:02.956410Z",
     "start_time": "2020-07-30T07:44:02.866654Z"
    },
    "colab": {},
    "colab_type": "code",
    "id": "b5ZUgKhB7sjk"
   },
   "outputs": [],
   "source": [
    "# 데이터 로드\n",
    "from sklearn.datasets import load_digits\n",
    "digits = load_digits()\n",
    "X = digits.data\n",
    "Y = digits.target \n",
    "\n",
    "# X 데이터를 훈령용과 검증용으로 분할\n",
    "from sklearn.model_selection import train_test_split\n",
    "X_train, X_test, Y_train, Y_test = train_test_split(X, Y, test_size=0.3)\n",
    "X_train = torch.tensor(X_train, dtype=torch.float32)\n",
    "Y_train = torch.tensor(Y_train, dtype=torch.int64)\n",
    "X_test = torch.tensor(X_test, dtype=torch.float32)\n",
    "Y_test = torch.tensor(Y_test, dtype=torch.int64)\n",
    "\n",
    "# X,y 데이터를 Dataloader 로 전환\n",
    "ds = TensorDataset(X_train, Y_train)\n",
    "loader = DataLoader(ds, batch_size=32, shuffle=True)"
   ]
  },
  {
   "cell_type": "markdown",
   "metadata": {},
   "source": [
    "## 모델 construct"
   ]
  },
  {
   "cell_type": "code",
   "execution_count": 176,
   "metadata": {
    "ExecuteTime": {
     "end_time": "2020-07-30T07:44:03.286640Z",
     "start_time": "2020-07-30T07:44:03.265696Z"
    }
   },
   "outputs": [
    {
     "name": "stdout",
     "output_type": "stream",
     "text": [
      "(1797, 64)\n"
     ]
    },
    {
     "data": {
      "text/plain": [
       "3    183\n",
       "5    182\n",
       "1    182\n",
       "6    181\n",
       "4    181\n",
       "9    180\n",
       "7    179\n",
       "0    178\n",
       "2    177\n",
       "8    174\n",
       "dtype: int64"
      ]
     },
     "execution_count": 176,
     "metadata": {},
     "output_type": "execute_result"
    }
   ],
   "source": [
    "print(digits.data.shape ) # 64 의 특성을 가지는 1797 개의 데이터\n",
    "pd.Series(digits.target).value_counts() # 10개"
   ]
  },
  {
   "cell_type": "code",
   "execution_count": 177,
   "metadata": {
    "ExecuteTime": {
     "end_time": "2020-07-30T07:44:03.649696Z",
     "start_time": "2020-07-30T07:44:03.631729Z"
    },
    "colab": {},
    "colab_type": "code",
    "id": "cXfXTxxRQMm4"
   },
   "outputs": [],
   "source": [
    "# 여러 층을 쌓아서 깊은 신경망을 구축한다\n",
    "k = 100\n",
    "net = nn.Sequential(\n",
    "    nn.Linear(64, k), # input 은 64\n",
    "    nn.ReLU(), \n",
    "    nn.Linear(k, k),\n",
    "    nn.ReLU(),\n",
    "    nn.Linear(k, k),\n",
    "    nn.ReLU(),\n",
    "    nn.Linear(k, k),\n",
    "    nn.ReLU(),\n",
    "    nn.Linear(k, 10) # output 은 y 의 label 이 10개 이므로 10\n",
    ")"
   ]
  },
  {
   "cell_type": "markdown",
   "metadata": {},
   "source": [
    "## loss,optimizer 정의"
   ]
  },
  {
   "cell_type": "code",
   "execution_count": 178,
   "metadata": {
    "ExecuteTime": {
     "end_time": "2020-07-30T07:44:04.273072Z",
     "start_time": "2020-07-30T07:44:04.253966Z"
    },
    "colab": {},
    "colab_type": "code",
    "id": "cXfXTxxRQMm4"
   },
   "outputs": [],
   "source": [
    "loss_fn = nn.CrossEntropyLoss()\n",
    "optimizer = optim.Adam(net.parameters())"
   ]
  },
  {
   "cell_type": "markdown",
   "metadata": {},
   "source": [
    "## Training"
   ]
  },
  {
   "cell_type": "code",
   "execution_count": 179,
   "metadata": {
    "ExecuteTime": {
     "end_time": "2020-07-30T07:44:04.617067Z",
     "start_time": "2020-07-30T07:44:04.607350Z"
    }
   },
   "outputs": [
    {
     "name": "stdout",
     "output_type": "stream",
     "text": [
      "2\n",
      "z\n"
     ]
    }
   ],
   "source": [
    "for i,x in enumerate(['x','y','z']):\n",
    "    k = i\n",
    "print(i)\n",
    "print(x)"
   ]
  },
  {
   "cell_type": "code",
   "execution_count": 180,
   "metadata": {
    "ExecuteTime": {
     "end_time": "2020-07-30T07:44:16.186981Z",
     "start_time": "2020-07-30T07:44:04.774104Z"
    },
    "colab": {},
    "colab_type": "code",
    "id": "foudr4_ZRTec"
   },
   "outputs": [
    {
     "name": "stdout",
     "output_type": "stream",
     "text": [
      "Epoch    0/100 Train_loss: 1.6057816858 Test_loss: 0.7167266011\n",
      "Epoch   10/100 Train_loss: 0.0351960173 Test_loss: 0.1367363036\n",
      "Epoch   20/100 Train_loss: 0.0158592468 Test_loss: 0.1135219559\n",
      "Epoch   30/100 Train_loss: 0.0004204197 Test_loss: 0.1311719865\n",
      "Epoch   40/100 Train_loss: 0.0001751144 Test_loss: 0.1392471641\n",
      "Epoch   50/100 Train_loss: 0.0001131642 Test_loss: 0.1456998140\n",
      "Epoch   60/100 Train_loss: 0.0000650447 Test_loss: 0.1521312743\n",
      "Epoch   70/100 Train_loss: 0.0000446157 Test_loss: 0.1571871489\n",
      "Epoch   80/100 Train_loss: 0.0000315055 Test_loss: 0.1626703888\n",
      "Epoch   90/100 Train_loss: 0.0000237922 Test_loss: 0.1667876244\n"
     ]
    }
   ],
   "source": [
    "train_losses = []\n",
    "test_losses = []\n",
    "for epoch in range(100):\n",
    "    running_loss = 0.0\n",
    "    for i, (xx, yy) in enumerate(loader): # loader 는 batch size 를 뭉텅이만큼 내보낸다. 즉 i 는 batch 가 진행될떄 마다 증가된다.\n",
    "        y_pred = net(xx)\n",
    "        loss = loss_fn(y_pred, yy)\n",
    "        optimizer.zero_grad()\n",
    "        loss.backward()\n",
    "        optimizer.step()\n",
    "        running_loss += loss.item() # loss 는 1 dim 의 tensor 형태로 나오므로 item 을 해주어서 scalar 로 변환\n",
    "    train_loss = running_loss / i\n",
    "    train_losses.append(train_loss) # for 이 끝나고 기억되는 i 는 saple / bathsize 로 총 학습의 수.\n",
    "    y_pred = net(X_test) \n",
    "    test_loss = loss_fn(y_pred, Y_test) # 한 iteration 이 끝나고 나서 계산되는 test loss \n",
    "    test_losses.append(test_loss.item())\n",
    "    if epoch % 10 == 0:\n",
    "        print('Epoch {:4d}/{} Train_loss: {:.10f} Test_loss: {:.10f}'.format(epoch, 100, train_loss ,test_loss.item()))\n",
    "\n"
   ]
  },
  {
   "cell_type": "code",
   "execution_count": 181,
   "metadata": {
    "ExecuteTime": {
     "end_time": "2020-07-30T07:44:19.396216Z",
     "start_time": "2020-07-30T07:44:19.259404Z"
    },
    "scrolled": true
   },
   "outputs": [
    {
     "data": {
      "text/plain": [
       "[<matplotlib.lines.Line2D at 0x23fad7b0070>]"
      ]
     },
     "execution_count": 181,
     "metadata": {},
     "output_type": "execute_result"
    },
    {
     "data": {
      "image/png": "[encoded data removed]",
      "text/plain": [
       "<Figure size 432x288 with 1 Axes>"
      ]
     },
     "metadata": {
      "needs_background": "light"
     },
     "output_type": "display_data"
    }
   ],
   "source": [
    "import matplotlib.pyplot as plt\n",
    "import pandas as pd\n",
    "\n",
    "plt.plot(pd.DataFrame(train_losses))\n",
    "plt.plot(pd.DataFrame(test_losses)) "
   ]
  },
  {
   "cell_type": "markdown",
   "metadata": {},
   "source": [
    "## Dropout model"
   ]
  },
  {
   "cell_type": "code",
   "execution_count": 69,
   "metadata": {
    "colab": {},
    "colab_type": "code",
    "id": "CaTqA_7SSh1f"
   },
   "outputs": [],
   "source": [
    "# 확률 0.5로 랜덤으로 변수의 차원을\n",
    "# 버리는 Dropout을 각 층에 추가\n",
    "net = nn.Sequential(\n",
    "    nn.Linear(64, k),\n",
    "    nn.ReLU(),\n",
    "    nn.Dropout(0.5),\n",
    "    nn.Linear(k, k),\n",
    "    nn.ReLU(),\n",
    "    nn.Dropout(0.5),\n",
    "    nn.Linear(k, k),\n",
    "    nn.ReLU(),\n",
    "    nn.Dropout(0.5),\n",
    "    nn.Linear(k, k),\n",
    "    nn.ReLU(),\n",
    "    nn.Dropout(0.5),\n",
    "    nn.Linear(k, 10)\n",
    ")"
   ]
  },
  {
   "cell_type": "code",
   "execution_count": 72,
   "metadata": {
    "colab": {},
    "colab_type": "code",
    "id": "n2hhGcc7TEVv",
    "scrolled": true
   },
   "outputs": [
    {
     "name": "stdout",
     "output_type": "stream",
     "text": [
      "Epoch    0/100 Train_loss: 2.3610963088 Test_loss: 2.3097085953\n",
      "Epoch   10/100 Train_loss: 2.3608034452 Test_loss: 2.3097012043\n",
      "Epoch   20/100 Train_loss: 2.3608109584 Test_loss: 2.3095753193\n",
      "Epoch   30/100 Train_loss: 2.3611958822 Test_loss: 2.3096840382\n",
      "Epoch   40/100 Train_loss: 2.3604943630 Test_loss: 2.3094401360\n",
      "Epoch   50/100 Train_loss: 2.3607079494 Test_loss: 2.3094203472\n",
      "Epoch   60/100 Train_loss: 2.3613812434 Test_loss: 2.3091928959\n",
      "Epoch   70/100 Train_loss: 2.3606182979 Test_loss: 2.3087952137\n",
      "Epoch   80/100 Train_loss: 2.3606089140 Test_loss: 2.3088977337\n",
      "Epoch   90/100 Train_loss: 2.3609006283 Test_loss: 2.3091337681\n"
     ]
    }
   ],
   "source": [
    "optimizer = optim.Adam(net.parameters())\n",
    "\n",
    "train_losses = []\n",
    "test_losses = []\n",
    "for epoch in range(100):\n",
    "    running_loss = 0.0\n",
    "    # 신경망을 훈련 모드로 설정 \n",
    "    # 이러면 신경망이 update 되면서 batch/dropout 등이 정상작동한다.\n",
    "    net.train() \n",
    "    for i, (xx, yy) in enumerate(loader):\n",
    "        y_pred = net(xx)\n",
    "        loss = loss_fn(y_pred, yy)\n",
    "        optimizer.zero_grad()\n",
    "        loss.backward()\n",
    "        optimizer.step()\n",
    "        running_loss += loss.item()\n",
    "    train_loss = running_loss / i\n",
    "    train_losses.append(train_loss) # for 이 끝나고 기억되는 i 는 saple / bathsize 로 총 학습의 수.\n",
    "    # 신경망을 평가 모드로 설정하고\n",
    "    # 검증 데이터의 손실 함수를 계산 (test 할떄에는 batch/dropout 등은 train 과 다르게 적용되어야 하기 떄문)\n",
    "    # (test 시에 dropout 은 꺼져있어야하고 / batch 는 이전에 구했던 값을 고정으로 사용해야한다.)\n",
    "    net.eval()\n",
    "    y_pred = net(X_test)\n",
    "    test_loss = loss_fn(y_pred, Y_test)\n",
    "    test_losses.append(test_loss.item())\n",
    "    if epoch % 10 == 0:\n",
    "        print('Epoch {:4d}/{} Train_loss: {:.10f} Test_loss: {:.10f}'.format(epoch, 100, train_loss ,test_loss.item()))\n"
   ]
  },
  {
   "cell_type": "code",
   "execution_count": 73,
   "metadata": {},
   "outputs": [
    {
     "data": {
      "text/plain": [
       "[<matplotlib.lines.Line2D at 0x2c570112f40>]"
      ]
     },
     "execution_count": 73,
     "metadata": {},
     "output_type": "execute_result"
    },
    {
     "data": {
      "image/png": "[encoded data removed]",
      "text/plain": [
       "<Figure size 432x288 with 1 Axes>"
      ]
     },
     "metadata": {
      "needs_background": "light"
     },
     "output_type": "display_data"
    }
   ],
   "source": [
    "plt.plot(pd.DataFrame(train_losses))\n",
    "plt.plot(pd.DataFrame(test_losses)) "
   ]
  },
  {
   "cell_type": "markdown",
   "metadata": {},
   "source": [
    "## batch 모델"
   ]
  },
  {
   "cell_type": "code",
   "execution_count": 71,
   "metadata": {
    "colab": {},
    "colab_type": "code",
    "id": "sPUpNv3Dd2kd"
   },
   "outputs": [],
   "source": [
    "# Linear층에는 BatchNorm1d를 적용한다\n",
    "net = nn.Sequential(\n",
    "    nn.Linear(64, k),\n",
    "    nn.ReLU(),\n",
    "    nn.BatchNorm1d(k),\n",
    "    nn.Linear(k, k),\n",
    "    nn.ReLU(),\n",
    "    nn.BatchNorm1d(k),\n",
    "    nn.Linear(k, k),\n",
    "    nn.ReLU(),\n",
    "    nn.BatchNorm1d(k),\n",
    "    nn.Linear(k, k),\n",
    "    nn.ReLU(),\n",
    "    nn.BatchNorm1d(k),\n",
    "    nn.Linear(k, 10)\n",
    ")"
   ]
  },
  {
   "cell_type": "markdown",
   "metadata": {},
   "source": [
    "## Class 정의 (참고)"
   ]
  },
  {
   "cell_type": "code",
   "execution_count": 72,
   "metadata": {
    "colab": {},
    "colab_type": "code",
    "id": "gQfRQDu60JuZ"
   },
   "outputs": [],
   "source": [
    "class CustomLinear(nn.Module):\n",
    "    def __init__(self, in_features,\n",
    "                  out_features,\n",
    "                  bias=True, p=0.5):\n",
    "        super().__init__()\n",
    "        self.linear = nn.Linear(in_features,\n",
    "                                out_features,\n",
    "                                bias)\n",
    "        self.relu = nn.ReLU()\n",
    "        self.drop = nn.Dropout(p)\n",
    "\n",
    "    def forward(self, x):\n",
    "        x = self.linear(x)\n",
    "        x = self.relu(x)\n",
    "        x = self.drop(x)\n",
    "        return x\n",
    "      \n",
    "mlp = nn.Sequential(\n",
    "    CustomLinear(64, 200),\n",
    "    CustomLinear(200, 200),\n",
    "    CustomLinear(200, 200),\n",
    "    nn.Linear(200, 10))"
   ]
  },
  {
   "cell_type": "code",
   "execution_count": 73,
   "metadata": {
    "colab": {},
    "colab_type": "code",
    "id": "4fciRX3Q1_om"
   },
   "outputs": [],
   "source": [
    "class MyMLP(nn.Module):\n",
    "    def __init__(self, in_features,\n",
    "                  out_features):\n",
    "        super().__init__()\n",
    "        self.ln1 = CustomLinear(in_features, 200)\n",
    "        self.ln2 = CustomLinear(200, 200)\n",
    "        self.ln3 = CustomLinear(200, 200)\n",
    "        self.ln4 = CustomLinear(200, out_features)\n",
    "    \n",
    "    def forward(self, x):\n",
    "        x = self.ln1(x)\n",
    "        x = self.ln2(x)\n",
    "        x = self.ln3(x)\n",
    "        x = self.ln4(x)\n",
    "        return x\n",
    "      \n",
    "mlp = MyMLP(64, 10)"
   ]
  },
  {
   "cell_type": "markdown",
   "metadata": {},
   "source": [
    "# CNN model(IN"
   ]
  },
  {
   "cell_type": "markdown",
   "metadata": {},
   "source": [
    "## Module import"
   ]
  },
  {
   "cell_type": "code",
   "execution_count": null,
   "metadata": {
    "ExecuteTime": {
     "end_time": "2020-07-30T06:42:34.086350Z",
     "start_time": "2020-07-30T06:41:39.248Z"
    }
   },
   "outputs": [],
   "source": [
    "# https://github.com/pytorch/examples/blob/master/mnist/main.py\n",
    "from __future__ import print_function\n",
    "import argparse\n",
    "import torch\n",
    "import torch.nn as nn\n",
    "import torch.nn.functional as F\n",
    "import torch.optim as optim\n",
    "from torchvision import datasets, transforms\n",
    "from torch.autograd import Variable"
   ]
  },
  {
   "cell_type": "markdown",
   "metadata": {},
   "source": [
    "## Data processing"
   ]
  },
  {
   "cell_type": "code",
   "execution_count": 53,
   "metadata": {
    "ExecuteTime": {
     "end_time": "2020-07-30T06:43:09.604074Z",
     "start_time": "2020-07-30T06:43:09.576905Z"
    }
   },
   "outputs": [],
   "source": [
    "# MNIST Dataset\n",
    "train_dataset = datasets.MNIST(root='./data/',\n",
    "                               train=True,\n",
    "                               transform=transforms.ToTensor(),\n",
    "                               download=True)\n",
    "\n",
    "test_dataset = datasets.MNIST(root='./data/',\n",
    "                              train=False,\n",
    "                              transform=transforms.ToTensor())"
   ]
  },
  {
   "cell_type": "code",
   "execution_count": 64,
   "metadata": {
    "ExecuteTime": {
     "end_time": "2020-07-30T06:57:07.771492Z",
     "start_time": "2020-07-30T06:57:07.744078Z"
    }
   },
   "outputs": [
    {
     "data": {
      "text/plain": [
       "torch.Size([60000, 28, 28])"
      ]
     },
     "execution_count": 64,
     "metadata": {},
     "output_type": "execute_result"
    }
   ],
   "source": [
    "train_dataset.test_data.shape"
   ]
  },
  {
   "cell_type": "code",
   "execution_count": 55,
   "metadata": {
    "ExecuteTime": {
     "end_time": "2020-07-30T06:50:58.878998Z",
     "start_time": "2020-07-30T06:50:58.863343Z"
    }
   },
   "outputs": [],
   "source": [
    "# Training settings\n",
    "batch_size = 64\n",
    "\n",
    "# Data Loader (Input Pipeline)\n",
    "train_loader = torch.utils.data.DataLoader(dataset=train_dataset,\n",
    "                                           batch_size=batch_size,\n",
    "                                           shuffle=True)\n",
    "test_loader = torch.utils.data.DataLoader(dataset=test_dataset,\n",
    "                                          batch_size=batch_size,\n",
    "                                          shuffle=False)"
   ]
  },
  {
   "cell_type": "code",
   "execution_count": 68,
   "metadata": {
    "ExecuteTime": {
     "end_time": "2020-07-30T06:57:51.693430Z",
     "start_time": "2020-07-30T06:57:51.679784Z"
    }
   },
   "outputs": [
    {
     "data": {
      "text/plain": [
       "torch.Size([60000, 28, 28])"
      ]
     },
     "execution_count": 68,
     "metadata": {},
     "output_type": "execute_result"
    }
   ],
   "source": [
    "train_loader.dataset.data.shape"
   ]
  },
  {
   "cell_type": "markdown",
   "metadata": {},
   "source": [
    "## Model construct"
   ]
  },
  {
   "cell_type": "code",
   "execution_count": null,
   "metadata": {
    "ExecuteTime": {
     "end_time": "2020-07-30T06:42:34.084355Z",
     "start_time": "2020-07-30T06:40:59.053041Z"
    }
   },
   "outputs": [],
   "source": [
    "class InceptionA(nn.Module):\n",
    "\n",
    "    def __init__(self, in_channels):\n",
    "        super(InceptionA, self).__init__()\n",
    "        self.branch1x1 = nn.Conv2d(in_channels, 16, kernel_size=1)\n",
    "\n",
    "        self.branch5x5_1 = nn.Conv2d(in_channels, 16, kernel_size=1)\n",
    "        self.branch5x5_2 = nn.Conv2d(16, 24, kernel_size=5, padding=2)\n",
    "\n",
    "        self.branch3x3dbl_1 = nn.Conv2d(in_channels, 16, kernel_size=1)\n",
    "        self.branch3x3dbl_2 = nn.Conv2d(16, 24, kernel_size=3, padding=1)\n",
    "        self.branch3x3dbl_3 = nn.Conv2d(24, 24, kernel_size=3, padding=1)\n",
    "\n",
    "        self.branch_pool = nn.Conv2d(in_channels, 24, kernel_size=1)\n",
    "\n",
    "    def forward(self, x):\n",
    "        branch1x1 = self.branch1x1(x) # output = 24\n",
    "\n",
    "        branch5x5 = self.branch5x5_1(x) \n",
    "        branch5x5 = self.branch5x5_2(branch5x5)\n",
    "\n",
    "        branch3x3dbl = self.branch3x3dbl_1(x)\n",
    "        branch3x3dbl = self.branch3x3dbl_2(branch3x3dbl)\n",
    "        branch3x3dbl = self.branch3x3dbl_3(branch3x3dbl)\n",
    "\n",
    "        branch_pool = F.avg_pool2d(x, kernel_size=3, stride=1, padding=1)\n",
    "        branch_pool = self.branch_pool(branch_pool)\n",
    "\n",
    "        outputs = [branch1x1, branch5x5, branch3x3dbl, branch_pool]\n",
    "        return torch.cat(outputs, 1) # output 이 4개가 나오는 4방향 모델이다. 즉 tensor 를 결합한다."
   ]
  },
  {
   "cell_type": "code",
   "execution_count": null,
   "metadata": {
    "ExecuteTime": {
     "start_time": "2020-07-30T07:02:46.587Z"
    }
   },
   "outputs": [],
   "source": [
    "class Net(nn.Module):\n",
    "\n",
    "    def __init__(self):\n",
    "        super(Net, self).__init__()\n",
    "        self.conv1 = nn.Conv2d(1, 10, kernel_size=5) # 처음에 cnn 으로 받을 때에는 input dim = 1 이므로 \n",
    "        self.conv2 = nn.Conv2d(88, 20, kernel_size=5) \n",
    "\n",
    "        self.incept1 = InceptionA(in_channels=10) \n",
    "        self.incept2 = InceptionA(in_channels=20)\n",
    "\n",
    "        self.mp = nn.MaxPool2d(2)\n",
    "        self.fc = nn.Linear(1408, 10) \n",
    "\n",
    "    def forward(self, x):\n",
    "        in_size = x.size(0) # 나중에 flatten 할떄 사용할 in_size\n",
    "        x = F.relu(self.mp(self.conv1(x))) # conv1 -> mxpooling -> relu\n",
    "        x = self.incept1(x) # incept1 을 통해서 위 실행의 결과를 받는다.\n",
    "        x = F.relu(self.mp(self.conv2(x))) # 실행의 결과를 또 \n",
    "        x = self.incept2(x) # incept2 를 통해서 다른곳으로 간다\n",
    "        x = x.view(in_size, -1)  # flatten the tensor\n",
    "        x = self.fc(x) # Flatten 이후부터는 NN\n",
    "        return F.log_softmax(x) # 마지막 출력층에는 softrmax 가 주어져야 확률값을 출력한다.\n",
    "\n",
    "model = Net()"
   ]
  },
  {
   "cell_type": "markdown",
   "metadata": {},
   "source": [
    "## Optimizer"
   ]
  },
  {
   "cell_type": "code",
   "execution_count": null,
   "metadata": {
    "ExecuteTime": {
     "start_time": "2020-07-30T07:02:46.587Z"
    }
   },
   "outputs": [],
   "source": [
    "optimizer = optim.SGD(model.parameters(), lr=0.01, momentum=0.5)"
   ]
  },
  {
   "cell_type": "markdown",
   "metadata": {},
   "source": [
    "## Training"
   ]
  },
  {
   "cell_type": "code",
   "execution_count": null,
   "metadata": {
    "ExecuteTime": {
     "start_time": "2020-07-30T07:02:46.587Z"
    }
   },
   "outputs": [],
   "source": [
    "def train(epoch):\n",
    "    model.train()\n",
    "    for batch_idx, (data, target) in enumerate(train_loader):\n",
    "        data, target = Variable(data), Variable(target)\n",
    "        optimizer.zero_grad()\n",
    "        output = model(data)\n",
    "        loss = F.nll_loss(output, target)\n",
    "        loss.backward()\n",
    "        optimizer.step()\n",
    "        if batch_idx % 10 == 0:\n",
    "            print('Train Epoch: {} [{}/{} ({:.0f}%)]\\tLoss: {:.6f}'.format(\n",
    "                epoch, batch_idx * len(data), len(train_loader.dataset),\n",
    "                100. * batch_idx / len(train_loader), loss.data.item()))"
   ]
  },
  {
   "cell_type": "code",
   "execution_count": null,
   "metadata": {
    "ExecuteTime": {
     "start_time": "2020-07-30T07:02:46.587Z"
    }
   },
   "outputs": [],
   "source": [
    "def test():\n",
    "    model.eval()\n",
    "    test_loss = 0\n",
    "    correct = 0\n",
    "    for data, target in test_loader:\n",
    "        data, target = Variable(data, volatile=True), Variable(target)\n",
    "        output = model(data)\n",
    "        # sum up batch loss\n",
    "        test_loss += F.nll_loss(output, target, size_average=False).data.item()\n",
    "        # get the index of the max log-probability\n",
    "        pred = output.data.max(1, keepdim=True)[1]\n",
    "        correct += pred.eq(target.data.view_as(pred)).cpu().sum()\n",
    "\n",
    "    test_loss /= len(test_loader.dataset)\n",
    "    print('\\nTest set: Average loss: {:.4f}, Accuracy: {}/{} ({:.0f}%)\\n'.format(\n",
    "        test_loss, correct, len(test_loader.dataset),\n",
    "        100. * correct / len(test_loader.dataset)))"
   ]
  },
  {
   "cell_type": "code",
   "execution_count": 69,
   "metadata": {
    "ExecuteTime": {
     "end_time": "2020-07-30T07:04:53.510183Z",
     "start_time": "2020-07-30T07:02:46.589040Z"
    },
    "scrolled": false
   },
   "outputs": [
    {
     "name": "stderr",
     "output_type": "stream",
     "text": [
      "<ipython-input-69-a159f5b106e7>:22: UserWarning: Implicit dimension choice for log_softmax has been deprecated. Change the call to include dim=X as an argument.\n",
      "  return F.log_softmax(x) # 마지막 출력층에는 softrmax 가 주어져야 확률값을 출력한다.\n"
     ]
    },
    {
     "name": "stdout",
     "output_type": "stream",
     "text": [
      "Train Epoch: 1 [0/60000 (0%)]\tLoss: 2.302891\n",
      "Train Epoch: 1 [640/60000 (1%)]\tLoss: 2.294346\n",
      "Train Epoch: 1 [1280/60000 (2%)]\tLoss: 2.311043\n",
      "Train Epoch: 1 [1920/60000 (3%)]\tLoss: 2.303875\n",
      "Train Epoch: 1 [2560/60000 (4%)]\tLoss: 2.305236\n",
      "Train Epoch: 1 [3200/60000 (5%)]\tLoss: 2.310093\n",
      "Train Epoch: 1 [3840/60000 (6%)]\tLoss: 2.312043\n",
      "Train Epoch: 1 [4480/60000 (7%)]\tLoss: 2.291681\n",
      "Train Epoch: 1 [5120/60000 (9%)]\tLoss: 2.292640\n",
      "Train Epoch: 1 [5760/60000 (10%)]\tLoss: 2.300061\n",
      "Train Epoch: 1 [6400/60000 (11%)]\tLoss: 2.280468\n",
      "Train Epoch: 1 [7040/60000 (12%)]\tLoss: 2.286444\n",
      "Train Epoch: 1 [7680/60000 (13%)]\tLoss: 2.274195\n",
      "Train Epoch: 1 [8320/60000 (14%)]\tLoss: 2.249134\n",
      "Train Epoch: 1 [8960/60000 (15%)]\tLoss: 2.260158\n",
      "Train Epoch: 1 [9600/60000 (16%)]\tLoss: 2.236719\n",
      "Train Epoch: 1 [10240/60000 (17%)]\tLoss: 2.182476\n",
      "Train Epoch: 1 [10880/60000 (18%)]\tLoss: 2.145621\n",
      "Train Epoch: 1 [11520/60000 (19%)]\tLoss: 2.127471\n",
      "Train Epoch: 1 [12160/60000 (20%)]\tLoss: 2.003936\n",
      "Train Epoch: 1 [12800/60000 (21%)]\tLoss: 1.782060\n",
      "Train Epoch: 1 [13440/60000 (22%)]\tLoss: 1.713588\n",
      "Train Epoch: 1 [14080/60000 (23%)]\tLoss: 1.317528\n",
      "Train Epoch: 1 [14720/60000 (25%)]\tLoss: 1.113785\n",
      "Train Epoch: 1 [15360/60000 (26%)]\tLoss: 1.023656\n",
      "Train Epoch: 1 [16000/60000 (27%)]\tLoss: 1.028180\n",
      "Train Epoch: 1 [16640/60000 (28%)]\tLoss: 0.601225\n",
      "Train Epoch: 1 [17280/60000 (29%)]\tLoss: 0.646610\n",
      "Train Epoch: 1 [17920/60000 (30%)]\tLoss: 0.512162\n",
      "Train Epoch: 1 [18560/60000 (31%)]\tLoss: 0.794937\n",
      "Train Epoch: 1 [19200/60000 (32%)]\tLoss: 0.675379\n",
      "Train Epoch: 1 [19840/60000 (33%)]\tLoss: 0.450851\n",
      "Train Epoch: 1 [20480/60000 (34%)]\tLoss: 0.772579\n",
      "Train Epoch: 1 [21120/60000 (35%)]\tLoss: 0.694634\n",
      "Train Epoch: 1 [21760/60000 (36%)]\tLoss: 0.558554\n",
      "Train Epoch: 1 [22400/60000 (37%)]\tLoss: 0.333360\n",
      "Train Epoch: 1 [23040/60000 (38%)]\tLoss: 0.481581\n",
      "Train Epoch: 1 [23680/60000 (39%)]\tLoss: 0.421702\n",
      "Train Epoch: 1 [24320/60000 (41%)]\tLoss: 0.383757\n",
      "Train Epoch: 1 [24960/60000 (42%)]\tLoss: 0.749389\n",
      "Train Epoch: 1 [25600/60000 (43%)]\tLoss: 0.388438\n",
      "Train Epoch: 1 [26240/60000 (44%)]\tLoss: 0.345981\n",
      "Train Epoch: 1 [26880/60000 (45%)]\tLoss: 0.364153\n",
      "Train Epoch: 1 [27520/60000 (46%)]\tLoss: 0.367104\n",
      "Train Epoch: 1 [28160/60000 (47%)]\tLoss: 0.272312\n",
      "Train Epoch: 1 [28800/60000 (48%)]\tLoss: 0.427191\n",
      "Train Epoch: 1 [29440/60000 (49%)]\tLoss: 0.465281\n",
      "Train Epoch: 1 [30080/60000 (50%)]\tLoss: 0.421649\n",
      "Train Epoch: 1 [30720/60000 (51%)]\tLoss: 0.444563\n",
      "Train Epoch: 1 [31360/60000 (52%)]\tLoss: 0.327185\n",
      "Train Epoch: 1 [32000/60000 (53%)]\tLoss: 0.260230\n",
      "Train Epoch: 1 [32640/60000 (54%)]\tLoss: 0.486912\n",
      "Train Epoch: 1 [33280/60000 (55%)]\tLoss: 0.419722\n",
      "Train Epoch: 1 [33920/60000 (57%)]\tLoss: 0.381447\n",
      "Train Epoch: 1 [34560/60000 (58%)]\tLoss: 0.247326\n",
      "Train Epoch: 1 [35200/60000 (59%)]\tLoss: 0.379293\n",
      "Train Epoch: 1 [35840/60000 (60%)]\tLoss: 0.325536\n",
      "Train Epoch: 1 [36480/60000 (61%)]\tLoss: 0.529316\n",
      "Train Epoch: 1 [37120/60000 (62%)]\tLoss: 0.488692\n",
      "Train Epoch: 1 [37760/60000 (63%)]\tLoss: 0.288327\n",
      "Train Epoch: 1 [38400/60000 (64%)]\tLoss: 0.430648\n",
      "Train Epoch: 1 [39040/60000 (65%)]\tLoss: 0.164822\n",
      "Train Epoch: 1 [39680/60000 (66%)]\tLoss: 0.226264\n",
      "Train Epoch: 1 [40320/60000 (67%)]\tLoss: 0.421418\n",
      "Train Epoch: 1 [40960/60000 (68%)]\tLoss: 0.265980\n",
      "Train Epoch: 1 [41600/60000 (69%)]\tLoss: 0.180529\n",
      "Train Epoch: 1 [42240/60000 (70%)]\tLoss: 0.412465\n",
      "Train Epoch: 1 [42880/60000 (71%)]\tLoss: 0.199559\n",
      "Train Epoch: 1 [43520/60000 (72%)]\tLoss: 0.283459\n",
      "Train Epoch: 1 [44160/60000 (74%)]\tLoss: 0.237559\n",
      "Train Epoch: 1 [44800/60000 (75%)]\tLoss: 0.396859\n",
      "Train Epoch: 1 [45440/60000 (76%)]\tLoss: 0.309644\n",
      "Train Epoch: 1 [46080/60000 (77%)]\tLoss: 0.119637\n",
      "Train Epoch: 1 [46720/60000 (78%)]\tLoss: 0.300364\n",
      "Train Epoch: 1 [47360/60000 (79%)]\tLoss: 0.377758\n",
      "Train Epoch: 1 [48000/60000 (80%)]\tLoss: 0.271148\n",
      "Train Epoch: 1 [48640/60000 (81%)]\tLoss: 0.191784\n",
      "Train Epoch: 1 [49280/60000 (82%)]\tLoss: 0.215105\n",
      "Train Epoch: 1 [49920/60000 (83%)]\tLoss: 0.186524\n",
      "Train Epoch: 1 [50560/60000 (84%)]\tLoss: 0.154132\n",
      "Train Epoch: 1 [51200/60000 (85%)]\tLoss: 0.235163\n",
      "Train Epoch: 1 [51840/60000 (86%)]\tLoss: 0.233718\n",
      "Train Epoch: 1 [52480/60000 (87%)]\tLoss: 0.152207\n",
      "Train Epoch: 1 [53120/60000 (88%)]\tLoss: 0.213722\n",
      "Train Epoch: 1 [53760/60000 (90%)]\tLoss: 0.128634\n",
      "Train Epoch: 1 [54400/60000 (91%)]\tLoss: 0.302837\n",
      "Train Epoch: 1 [55040/60000 (92%)]\tLoss: 0.148213\n",
      "Train Epoch: 1 [55680/60000 (93%)]\tLoss: 0.093998\n",
      "Train Epoch: 1 [56320/60000 (94%)]\tLoss: 0.269544\n",
      "Train Epoch: 1 [56960/60000 (95%)]\tLoss: 0.253138\n",
      "Train Epoch: 1 [57600/60000 (96%)]\tLoss: 0.188003\n",
      "Train Epoch: 1 [58240/60000 (97%)]\tLoss: 0.149382\n",
      "Train Epoch: 1 [58880/60000 (98%)]\tLoss: 0.142379\n",
      "Train Epoch: 1 [59520/60000 (99%)]\tLoss: 0.085504\n"
     ]
    },
    {
     "name": "stderr",
     "output_type": "stream",
     "text": [
      "<ipython-input-69-a159f5b106e7>:49: UserWarning: volatile was removed and now has no effect. Use `with torch.no_grad():` instead.\n",
      "  data, target = Variable(data, volatile=True), Variable(target)\n",
      "C:\\Users\\goran\\anaconda3\\envs\\pytorch\\lib\\site-packages\\torch\\nn\\_reduction.py:43: UserWarning: size_average and reduce args will be deprecated, please use reduction='sum' instead.\n",
      "  warnings.warn(warning.format(ret))\n"
     ]
    },
    {
     "name": "stdout",
     "output_type": "stream",
     "text": [
      "\n",
      "Test set: Average loss: 0.1911, Accuracy: 9445/10000 (94%)\n",
      "\n",
      "Train Epoch: 2 [0/60000 (0%)]\tLoss: 0.233011\n",
      "Train Epoch: 2 [640/60000 (1%)]\tLoss: 0.324776\n",
      "Train Epoch: 2 [1280/60000 (2%)]\tLoss: 0.107716\n",
      "Train Epoch: 2 [1920/60000 (3%)]\tLoss: 0.199791\n",
      "Train Epoch: 2 [2560/60000 (4%)]\tLoss: 0.184520\n",
      "Train Epoch: 2 [3200/60000 (5%)]\tLoss: 0.337457\n",
      "Train Epoch: 2 [3840/60000 (6%)]\tLoss: 0.186707\n",
      "Train Epoch: 2 [4480/60000 (7%)]\tLoss: 0.218283\n",
      "Train Epoch: 2 [5120/60000 (9%)]\tLoss: 0.103636\n",
      "Train Epoch: 2 [5760/60000 (10%)]\tLoss: 0.260171\n",
      "Train Epoch: 2 [6400/60000 (11%)]\tLoss: 0.275415\n",
      "Train Epoch: 2 [7040/60000 (12%)]\tLoss: 0.247405\n",
      "Train Epoch: 2 [7680/60000 (13%)]\tLoss: 0.124476\n",
      "Train Epoch: 2 [8320/60000 (14%)]\tLoss: 0.122096\n",
      "Train Epoch: 2 [8960/60000 (15%)]\tLoss: 0.244877\n",
      "Train Epoch: 2 [9600/60000 (16%)]\tLoss: 0.159845\n",
      "Train Epoch: 2 [10240/60000 (17%)]\tLoss: 0.216543\n",
      "Train Epoch: 2 [10880/60000 (18%)]\tLoss: 0.093182\n",
      "Train Epoch: 2 [11520/60000 (19%)]\tLoss: 0.189278\n",
      "Train Epoch: 2 [12160/60000 (20%)]\tLoss: 0.108894\n",
      "Train Epoch: 2 [12800/60000 (21%)]\tLoss: 0.147058\n",
      "Train Epoch: 2 [13440/60000 (22%)]\tLoss: 0.102016\n",
      "Train Epoch: 2 [14080/60000 (23%)]\tLoss: 0.269218\n",
      "Train Epoch: 2 [14720/60000 (25%)]\tLoss: 0.044088\n",
      "Train Epoch: 2 [15360/60000 (26%)]\tLoss: 0.273139\n",
      "Train Epoch: 2 [16000/60000 (27%)]\tLoss: 0.234211\n",
      "Train Epoch: 2 [16640/60000 (28%)]\tLoss: 0.084720\n",
      "Train Epoch: 2 [17280/60000 (29%)]\tLoss: 0.203713\n",
      "Train Epoch: 2 [17920/60000 (30%)]\tLoss: 0.314296\n",
      "Train Epoch: 2 [18560/60000 (31%)]\tLoss: 0.141074\n",
      "Train Epoch: 2 [19200/60000 (32%)]\tLoss: 0.205956\n",
      "Train Epoch: 2 [19840/60000 (33%)]\tLoss: 0.064249\n",
      "Train Epoch: 2 [20480/60000 (34%)]\tLoss: 0.361746\n",
      "Train Epoch: 2 [21120/60000 (35%)]\tLoss: 0.187077\n",
      "Train Epoch: 2 [21760/60000 (36%)]\tLoss: 0.136466\n",
      "Train Epoch: 2 [22400/60000 (37%)]\tLoss: 0.151336\n",
      "Train Epoch: 2 [23040/60000 (38%)]\tLoss: 0.074570\n",
      "Train Epoch: 2 [23680/60000 (39%)]\tLoss: 0.159663\n",
      "Train Epoch: 2 [24320/60000 (41%)]\tLoss: 0.087319\n",
      "Train Epoch: 2 [24960/60000 (42%)]\tLoss: 0.137184\n",
      "Train Epoch: 2 [25600/60000 (43%)]\tLoss: 0.143871\n",
      "Train Epoch: 2 [26240/60000 (44%)]\tLoss: 0.108253\n",
      "Train Epoch: 2 [26880/60000 (45%)]\tLoss: 0.274706\n",
      "Train Epoch: 2 [27520/60000 (46%)]\tLoss: 0.033503\n",
      "Train Epoch: 2 [28160/60000 (47%)]\tLoss: 0.169295\n",
      "Train Epoch: 2 [28800/60000 (48%)]\tLoss: 0.219941\n",
      "Train Epoch: 2 [29440/60000 (49%)]\tLoss: 0.127217\n",
      "Train Epoch: 2 [30080/60000 (50%)]\tLoss: 0.052701\n",
      "Train Epoch: 2 [30720/60000 (51%)]\tLoss: 0.166852\n",
      "Train Epoch: 2 [31360/60000 (52%)]\tLoss: 0.210254\n",
      "Train Epoch: 2 [32000/60000 (53%)]\tLoss: 0.253451\n",
      "Train Epoch: 2 [32640/60000 (54%)]\tLoss: 0.174440\n",
      "Train Epoch: 2 [33280/60000 (55%)]\tLoss: 0.131014\n",
      "Train Epoch: 2 [33920/60000 (57%)]\tLoss: 0.141380\n",
      "Train Epoch: 2 [34560/60000 (58%)]\tLoss: 0.171748\n",
      "Train Epoch: 2 [35200/60000 (59%)]\tLoss: 0.134392\n",
      "Train Epoch: 2 [35840/60000 (60%)]\tLoss: 0.065260\n",
      "Train Epoch: 2 [36480/60000 (61%)]\tLoss: 0.033470\n",
      "Train Epoch: 2 [37120/60000 (62%)]\tLoss: 0.060140\n",
      "Train Epoch: 2 [37760/60000 (63%)]\tLoss: 0.112988\n",
      "Train Epoch: 2 [38400/60000 (64%)]\tLoss: 0.071552\n",
      "Train Epoch: 2 [39040/60000 (65%)]\tLoss: 0.100748\n",
      "Train Epoch: 2 [39680/60000 (66%)]\tLoss: 0.150297\n",
      "Train Epoch: 2 [40320/60000 (67%)]\tLoss: 0.139896\n",
      "Train Epoch: 2 [40960/60000 (68%)]\tLoss: 0.066502\n",
      "Train Epoch: 2 [41600/60000 (69%)]\tLoss: 0.189095\n",
      "Train Epoch: 2 [42240/60000 (70%)]\tLoss: 0.043178\n",
      "Train Epoch: 2 [42880/60000 (71%)]\tLoss: 0.215000\n",
      "Train Epoch: 2 [43520/60000 (72%)]\tLoss: 0.092198\n",
      "Train Epoch: 2 [44160/60000 (74%)]\tLoss: 0.143080\n",
      "Train Epoch: 2 [44800/60000 (75%)]\tLoss: 0.164326\n",
      "Train Epoch: 2 [45440/60000 (76%)]\tLoss: 0.086808\n",
      "Train Epoch: 2 [46080/60000 (77%)]\tLoss: 0.187922\n",
      "Train Epoch: 2 [46720/60000 (78%)]\tLoss: 0.244483\n",
      "Train Epoch: 2 [47360/60000 (79%)]\tLoss: 0.137598\n",
      "Train Epoch: 2 [48000/60000 (80%)]\tLoss: 0.131285\n",
      "Train Epoch: 2 [48640/60000 (81%)]\tLoss: 0.041313\n",
      "Train Epoch: 2 [49280/60000 (82%)]\tLoss: 0.167767\n",
      "Train Epoch: 2 [49920/60000 (83%)]\tLoss: 0.050384\n",
      "Train Epoch: 2 [50560/60000 (84%)]\tLoss: 0.055098\n",
      "Train Epoch: 2 [51200/60000 (85%)]\tLoss: 0.081740\n",
      "Train Epoch: 2 [51840/60000 (86%)]\tLoss: 0.140355\n",
      "Train Epoch: 2 [52480/60000 (87%)]\tLoss: 0.039065\n",
      "Train Epoch: 2 [53120/60000 (88%)]\tLoss: 0.127692\n",
      "Train Epoch: 2 [53760/60000 (90%)]\tLoss: 0.213623\n",
      "Train Epoch: 2 [54400/60000 (91%)]\tLoss: 0.081390\n",
      "Train Epoch: 2 [55040/60000 (92%)]\tLoss: 0.071290\n",
      "Train Epoch: 2 [55680/60000 (93%)]\tLoss: 0.129234\n",
      "Train Epoch: 2 [56320/60000 (94%)]\tLoss: 0.112233\n",
      "Train Epoch: 2 [56960/60000 (95%)]\tLoss: 0.039253\n",
      "Train Epoch: 2 [57600/60000 (96%)]\tLoss: 0.123389\n",
      "Train Epoch: 2 [58240/60000 (97%)]\tLoss: 0.039320\n",
      "Train Epoch: 2 [58880/60000 (98%)]\tLoss: 0.182982\n",
      "Train Epoch: 2 [59520/60000 (99%)]\tLoss: 0.043133\n",
      "\n",
      "Test set: Average loss: 0.1006, Accuracy: 9698/10000 (97%)\n",
      "\n"
     ]
    }
   ],
   "source": [
    "for epoch in range(1, 3):\n",
    "    train(epoch)\n",
    "    test()"
   ]
  },
  {
   "cell_type": "code",
   "execution_count": null,
   "metadata": {},
   "outputs": [],
   "source": []
  }
 ],
 "metadata": {
  "accelerator": "GPU",
  "colab": {
   "authorship_tag": "ABX9TyMsLe2nfLgBVzm2fhEjaHEo",
   "include_colab_link": true,
   "name": "NN",
   "provenance": []
  },
  "kernelspec": {
   "display_name": "Python 3",
   "language": "python",
   "name": "python3"
  },
  "language_info": {
   "codemirror_mode": {
    "name": "ipython",
    "version": 3
   },
   "file_extension": ".py",
   "mimetype": "text/x-python",
   "name": "python",
   "nbconvert_exporter": "python",
   "pygments_lexer": "ipython3",
   "version": "3.7.4"
  },
  "toc": {
   "base_numbering": 1,
   "nav_menu": {},
   "number_sections": true,
   "sideBar": true,
   "skip_h1_title": false,
   "title_cell": "Table of Contents",
   "title_sidebar": "Contents",
   "toc_cell": false,
   "toc_position": {},
   "toc_section_display": true,
   "toc_window_display": true
  }
 },
 "nbformat": 4,
 "nbformat_minor": 1
}
