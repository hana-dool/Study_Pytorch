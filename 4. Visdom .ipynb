{
 "cells": [
  {
   "cell_type": "markdown",
   "metadata": {},
   "source": [
    "# 비즈덤 활성화하기"
   ]
  },
  {
   "cell_type": "markdown",
   "metadata": {},
   "source": [
    "1. 아나콘다 프롬프트를 키고 activate 가상환경(pytorch) 를 실행한다.\n",
    "2. python -m visdom.server 입력해서 서버를 킨다.\n",
    "3. 크롬에서 http://localhost:8097/ 를 주소창에 킨다.\n",
    "4. import visdom / vis = visdom.Visdom() 을 입력한다."
   ]
  },
  {
   "cell_type": "code",
   "execution_count": 25,
   "metadata": {},
   "outputs": [
    {
     "name": "stderr",
     "output_type": "stream",
     "text": [
      "Setting up a new session...\n"
     ]
    }
   ],
   "source": [
    "import visdom\n",
    "vis = visdom.Visdom()"
   ]
  },
  {
   "cell_type": "code",
   "execution_count": 26,
   "metadata": {},
   "outputs": [],
   "source": [
    "import torch\n",
    "import torch.nn as nn\n",
    "import torchvision\n",
    "import torchvision.datasets as dsets"
   ]
  },
  {
   "cell_type": "markdown",
   "metadata": {},
   "source": [
    "# 실습"
   ]
  },
  {
   "cell_type": "code",
   "execution_count": 27,
   "metadata": {},
   "outputs": [
    {
     "data": {
      "text/plain": [
       "'window_38bd3c18391f80'"
      ]
     },
     "execution_count": 27,
     "metadata": {},
     "output_type": "execute_result"
    }
   ],
   "source": [
    "# 텍스트를 치니까, 텍스트가 나와용~ 너무조아\n",
    "vis.text(\"Hello,\",env=\"main\")  \n",
    "# 이 env = 'main' 으로 설정하면 나중에 한번에 꺼줄 수 있다. \n",
    "# 있으나 마나 하긴 함...."
   ]
  },
  {
   "cell_type": "code",
   "execution_count": 33,
   "metadata": {},
   "outputs": [
    {
     "data": {
      "text/plain": [
       "'window_38bd3c67f08712'"
      ]
     },
     "execution_count": 33,
     "metadata": {},
     "output_type": "execute_result"
    }
   ],
   "source": [
    "# 랜덤으로 3 channel 의 200,200 개의 점이 나온다.\n",
    "# control 누르고 떙기기 가능. 조절이 가능하다.\n",
    "a = torch.randn(3,200,200) # \n",
    "vis.image(a)"
   ]
  },
  {
   "cell_type": "code",
   "execution_count": 37,
   "metadata": {
    "scrolled": true
   },
   "outputs": [
    {
     "data": {
      "text/plain": [
       "'window_38bd3ca0e00f76'"
      ]
     },
     "execution_count": 37,
     "metadata": {},
     "output_type": "execute_result"
    }
   ],
   "source": [
    "# 한번에 보여주기\n",
    "vis.images(torch.Tensor(3,3,28,28)) # 앞에 3 붙이면 한번에 3개 붙여준다."
   ]
  },
  {
   "cell_type": "markdown",
   "metadata": {},
   "source": [
    "# Minist / cifar 데이터셋"
   ]
  },
  {
   "cell_type": "code",
   "execution_count": 35,
   "metadata": {},
   "outputs": [
    {
     "name": "stdout",
     "output_type": "stream",
     "text": [
      "Files already downloaded and verified\n"
     ]
    }
   ],
   "source": [
    "MNIST = dsets.MNIST(root=\"C:/Users/goran/Desktop/Python/Dataset/MINIST\",train=True,transform=torchvision.transforms.ToTensor(),download=True)\n",
    "cifar10 = dsets.CIFAR10(root=\"C:/Users/goran/Desktop/Python/Dataset/cifar10\",train=True,transform=torchvision.transforms.ToTensor(),download=True)"
   ]
  },
  {
   "cell_type": "code",
   "execution_count": 38,
   "metadata": {},
   "outputs": [
    {
     "name": "stdout",
     "output_type": "stream",
     "text": [
      "torch.Size([3, 32, 32])\n"
     ]
    },
    {
     "data": {
      "text/plain": [
       "'window_38bd3cb59c9068'"
      ]
     },
     "execution_count": 38,
     "metadata": {},
     "output_type": "execute_result"
    }
   ],
   "source": [
    "data = cifar10.__getitem__(0) # cifar 에서 1번째 데이터를 보고싶어 ~ \n",
    "print(data[0].shape) # shape 확인. 3 chennel(컬러) 의 32*32 사진\n",
    "vis.images(data[0],env=\"main\") "
   ]
  },
  {
   "cell_type": "code",
   "execution_count": 12,
   "metadata": {},
   "outputs": [
    {
     "name": "stdout",
     "output_type": "stream",
     "text": [
      "torch.Size([1, 28, 28])\n"
     ]
    },
    {
     "data": {
      "text/plain": [
       "'window_38bd27bf511b4c'"
      ]
     },
     "execution_count": 12,
     "metadata": {},
     "output_type": "execute_result"
    }
   ],
   "source": [
    "data = MNIST.__getitem__(0) # Minist 에서 getitem 을 통해서 1번쨰 데이터를 보고싶어\n",
    "print(data[0].shape) # 0 의 shape 는 어떨까? \n",
    "vis.images(data[0],env=\"main\") "
   ]
  },
  {
   "cell_type": "markdown",
   "metadata": {},
   "source": [
    "# 데이터 로더를 활용해 한번에 보기"
   ]
  },
  {
   "cell_type": "code",
   "execution_count": 39,
   "metadata": {},
   "outputs": [],
   "source": [
    "data_loader = torch.utils.data.DataLoader(dataset=MNIST,\n",
    "                                         batch_size=32,  # batch size 를 설정하자! \n",
    "                                         shuffle=False)"
   ]
  },
  {
   "cell_type": "code",
   "execution_count": 40,
   "metadata": {},
   "outputs": [
    {
     "name": "stdout",
     "output_type": "stream",
     "text": [
      "torch.Size([32, 1, 28, 28])\n"
     ]
    }
   ],
   "source": [
    "for num, value in enumerate(data_loader):\n",
    "    value = value[0]\n",
    "    print(value.shape)\n",
    "    vis.images(value)\n",
    "    break"
   ]
  },
  {
   "cell_type": "code",
   "execution_count": 41,
   "metadata": {
    "scrolled": true
   },
   "outputs": [
    {
     "data": {
      "text/plain": [
       "''"
      ]
     },
     "execution_count": 41,
     "metadata": {},
     "output_type": "execute_result"
    }
   ],
   "source": [
    "vis.close(env=\"main\") # env 가 main 인 얘들의 창을 다 꺼줭~"
   ]
  },
  {
   "cell_type": "markdown",
   "metadata": {},
   "source": [
    "# Line plot 해보기"
   ]
  },
  {
   "cell_type": "code",
   "execution_count": 42,
   "metadata": {},
   "outputs": [],
   "source": [
    "# x 값을 넣지 않으면 x축은 0~1 값이 된다.\n",
    "y_data = torch.randn(5) # 5개의 데이터 형성\n",
    "plt = vis.line(Y=y_data) # y 데이터로 그릴래요~"
   ]
  },
  {
   "cell_type": "code",
   "execution_count": 43,
   "metadata": {},
   "outputs": [],
   "source": [
    "# x 값을 넣어주면 x 축의 값이 생긴다.!\n",
    "x_data = torch.Tensor([1,2,3,4,5])\n",
    "plt = vis.line(Y=y_data,X=x_data)"
   ]
  },
  {
   "cell_type": "code",
   "execution_count": 44,
   "metadata": {},
   "outputs": [
    {
     "data": {
      "text/plain": [
       "'window_38bd3cfb14bb26'"
      ]
     },
     "execution_count": 44,
     "metadata": {},
     "output_type": "execute_result"
    }
   ],
   "source": [
    "y_append = torch.rand(1)\n",
    "x_append = torch.Tensor([6])\n",
    "# 추가시킬것들을 넣어주고. 윈도우 이름을 넣어주자. (plt 를 선언했기 때문에, win = plt)\n",
    "vis.line(Y=y_append,X=x_append,win=plt,update = 'append')"
   ]
  },
  {
   "cell_type": "code",
   "execution_count": 45,
   "metadata": {
    "scrolled": true
   },
   "outputs": [
    {
     "name": "stdout",
     "output_type": "stream",
     "text": [
      "torch.Size([10])\n",
      "torch.Size([10, 1])\n",
      "torch.Size([10, 2])\n"
     ]
    }
   ],
   "source": [
    "# 단일 창에서 2개의 lone 그리기\n",
    "num = torch.Tensor(list(range(0,10))) # num 은 0 ~ 9 의 10개 값(tensor)\n",
    "print(num.shape)  # shape 는 10 \n",
    "num = num.view(-1,1) # \n",
    "print(num.shape)\n",
    "num = torch.cat((num,num),dim=1) # torch 를 붙여가지구 y 와 똑같은 모양이 되도록!\n",
    "print(num.shape) \n",
    "\n",
    "plt = vis.line(Y=torch.rand(10,2),X=num) \n",
    "# line 2개를 그릴려면, y 와 똑같은 shape 의 X 가 필요하다. 그래서 [10,2] 의 x 값을 가지게 새로 정의"
   ]
  },
  {
   "cell_type": "code",
   "execution_count": 46,
   "metadata": {},
   "outputs": [],
   "source": [
    "plt = vis.line(Y=y_data,X=x_data,\n",
    "               opts=dict(title='Test', # 제목 정하기\n",
    "                         showlegend=True)) # legend 보여주는 설정"
   ]
  },
  {
   "cell_type": "code",
   "execution_count": 47,
   "metadata": {},
   "outputs": [],
   "source": [
    "plt = vis.line(Y=y_data,X=x_data,opts = dict(title='Test',\n",
    "                                             legend=['1번'], # 축에 이름넣기\n",
    "                                             showlegend=True))"
   ]
  },
  {
   "cell_type": "code",
   "execution_count": 48,
   "metadata": {},
   "outputs": [],
   "source": [
    "plt = vis.line(Y=torch.rand(10,2),X=num,opts=dict(title='Test',\n",
    "                                                  legend=['1번','2번'], # 2개!\n",
    "                                                  showlegend=True))"
   ]
  },
  {
   "cell_type": "markdown",
   "metadata": {},
   "source": [
    "# loss update"
   ]
  },
  {
   "cell_type": "code",
   "execution_count": 49,
   "metadata": {},
   "outputs": [],
   "source": [
    "# loss update 확인하기\n",
    "def loss_tracker(loss_plot, loss_value, num):\n",
    "    # loss_plot = 업데이트할 플롯의 이름\n",
    "    # loss_value = loss 값이 무엇인지\n",
    "    # num = loss 값의 x index \n",
    "    '''num, loss_value, are Tensor!!'''\n",
    "    vis.line(X=num,\n",
    "             Y=loss_value,\n",
    "             win = loss_plot, \n",
    "             update='append' # append 로 update 해주세요.\n",
    "             )"
   ]
  },
  {
   "cell_type": "code",
   "execution_count": 50,
   "metadata": {},
   "outputs": [],
   "source": [
    "plt = vis.line(Y=torch.Tensor(1).zero_())\n",
    "\n",
    "for i in range(500): \n",
    "    loss = torch.randn(1) + i # 그냥 임의로 집어너은거\n",
    "    loss_tracker(plt, loss, torch.Tensor([i])) \n",
    "    # 사전에 업데이트 되는 loss 값을 사용\n",
    "    # index 는 그냥 i 사용 (tensor torch 를 사용해야 하므로 tensor 로 감쌈)\n"
   ]
  },
  {
   "cell_type": "code",
   "execution_count": 51,
   "metadata": {},
   "outputs": [
    {
     "data": {
      "text/plain": [
       "''"
      ]
     },
     "execution_count": 51,
     "metadata": {},
     "output_type": "execute_result"
    }
   ],
   "source": [
    "vis.close(env=\"main\")"
   ]
  },
  {
   "cell_type": "code",
   "execution_count": null,
   "metadata": {},
   "outputs": [],
   "source": []
  }
 ],
 "metadata": {
  "kernelspec": {
   "display_name": "Python 3",
   "language": "python",
   "name": "python3"
  },
  "language_info": {
   "codemirror_mode": {
    "name": "ipython",
    "version": 3
   },
   "file_extension": ".py",
   "mimetype": "text/x-python",
   "name": "python",
   "nbconvert_exporter": "python",
   "pygments_lexer": "ipython3",
   "version": "3.7.4"
  },
  "toc": {
   "base_numbering": 1,
   "nav_menu": {},
   "number_sections": true,
   "sideBar": true,
   "skip_h1_title": false,
   "title_cell": "Table of Contents",
   "title_sidebar": "Contents",
   "toc_cell": false,
   "toc_position": {
    "height": "calc(100% - 180px)",
    "left": "10px",
    "top": "150px",
    "width": "268.003px"
   },
   "toc_section_display": true,
   "toc_window_display": true
  },
  "varInspector": {
   "cols": {
    "lenName": 16,
    "lenType": 16,
    "lenVar": 40
   },
   "kernels_config": {
    "python": {
     "delete_cmd_postfix": "",
     "delete_cmd_prefix": "del ",
     "library": "var_list.py",
     "varRefreshCmd": "print(var_dic_list())"
    },
    "r": {
     "delete_cmd_postfix": ") ",
     "delete_cmd_prefix": "rm(",
     "library": "var_list.r",
     "varRefreshCmd": "cat(var_dic_list()) "
    }
   },
   "types_to_exclude": [
    "module",
    "function",
    "builtin_function_or_method",
    "instance",
    "_Feature"
   ],
   "window_display": false
  }
 },
 "nbformat": 4,
 "nbformat_minor": 4
}
