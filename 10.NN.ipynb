{
  "nbformat": 4,
  "nbformat_minor": 0,
  "metadata": {
    "colab": {
      "name": "NN",
      "provenance": [],
      "authorship_tag": "ABX9TyMsLe2nfLgBVzm2fhEjaHEo",
      "include_colab_link": true
    },
    "kernelspec": {
      "name": "python3",
      "display_name": "Python 3"
    },
    "accelerator": "GPU"
  },
  "cells": [
    {
      "cell_type": "markdown",
      "metadata": {
        "id": "view-in-github",
        "colab_type": "text"
      },
      "source": [
        "<a href=\"https://colab.research.google.com/github/hana-dool/Pytorch/blob/master/10.NN.ipynb\" target=\"_parent\"><img src=\"https://colab.research.google.com/assets/colab-badge.svg\" alt=\"Open In Colab\"/></a>"
      ]
    },
    {
      "cell_type": "markdown",
      "metadata": {
        "id": "Ow2zRgifYCeR",
        "colab_type": "text"
      },
      "source": [
        "# 기본 setting"
      ]
    },
    {
      "cell_type": "markdown",
      "metadata": {
        "id": "tFaUIYAoXvHC",
        "colab_type": "text"
      },
      "source": [
        "우선 필요한 도구를 임포트하고, GPU 연산이 가능할 경우에는 GPU 연산을 할 수 있도록 설정해줍니다."
      ]
    },
    {
      "cell_type": "code",
      "metadata": {
        "id": "cXTvJIciX-Cn",
        "colab_type": "code",
        "colab": {}
      },
      "source": [
        "import torch\n",
        "import torch.nn as nn \n",
        "device = 'cuda' if torch.cuda.is_available() else 'cpu'\n",
        "torch.manual_seed(777) # 기본 torch 의 random 고정\n",
        "if device == 'cuda':\n",
        "    torch.cuda.manual_seed_all(777) # gpu 사용시 random 고정"
      ],
      "execution_count": null,
      "outputs": []
    },
    {
      "cell_type": "markdown",
      "metadata": {
        "id": "dMXnLp89YJlg",
        "colab_type": "text"
      },
      "source": [
        "# Data setting"
      ]
    },
    {
      "cell_type": "code",
      "metadata": {
        "id": "rLawGv4dX-QR",
        "colab_type": "code",
        "colab": {}
      },
      "source": [
        "X = torch.FloatTensor([[0, 0], [0, 1], [1, 0], [1, 1]]).to(device) # to('gpu') : gpu 에 텐서를 복사본을 생성해 저장\n",
        "Y = torch.FloatTensor([[0], [1], [1], [0]]).to(device)"
      ],
      "execution_count": null,
      "outputs": []
    },
    {
      "cell_type": "markdown",
      "metadata": {
        "id": "TgChUyscYI1s",
        "colab_type": "text"
      },
      "source": [
        "# Model(단층 퍼셉트론) construct"
      ]
    },
    {
      "cell_type": "markdown",
      "metadata": {
        "id": "2kpyhen8am46",
        "colab_type": "text"
      },
      "source": [
        "1개의 뉴런<br>\n",
        "활성화 함수는 sigmoid<br>\n",
        "x input 은 특성이 2개<br>\n",
        "y output 은 특성이 1개 (0,1 class)<br>"
      ]
    },
    {
      "cell_type": "code",
      "metadata": {
        "id": "Sq0i3tF4Ynft",
        "colab_type": "code",
        "colab": {}
      },
      "source": [
        "linear = nn.Linear(2, 1, bias=True)\n",
        "sigmoid = nn.Sigmoid()\n",
        "model = nn.Sequential(linear, sigmoid).to(device)"
      ],
      "execution_count": null,
      "outputs": []
    },
    {
      "cell_type": "code",
      "metadata": {
        "id": "EI7LOk4zYpjS",
        "colab_type": "code",
        "colab": {}
      },
      "source": [
        "# 0 또는 1을 예측하는 이진 분류 문제이므로 비용 함수로는 크로스엔트로피 함수를 사용합니다.\n",
        "# 비용 함수와 옵티마이저 정의\n",
        "criterion = torch.nn.BCELoss().to(device) # nn.BCEloss() 는 이진분류에서 사용하는 크로스 엔트로피 함수\n",
        "\n",
        "# GPU CUDA를 사용할 계획이라면 optimizer를 정의하기 전에 미리 해놓아야 한다 (model 에서)\n",
        "# optimizer는 argument로 model의 parameter를 입력받는다.\n",
        "#.cuda()를 쓰면 모델의 parameter가 cpu 대신 gpu에 올라가는 것이므로 다른 object가 된다.\n",
        "# 따라서 optimizer에 model parameter의 위치를 전달한 후 model 에다가 .cuda()를 실행하면, 학습시켜야 할 parameter는 GPU에 올라가 있는데 optimizer는 cpu에 올라간 엉뚱한 parameter 위치를 참조하고 있는 것이 된다.\n",
        "optimizer = torch.optim.SGD(model.parameters(), lr=1)\n"
      ],
      "execution_count": null,
      "outputs": []
    },
    {
      "cell_type": "code",
      "metadata": {
        "id": "3Kg-cFQLaZlq",
        "colab_type": "code",
        "colab": {
          "base_uri": "https://localhost:8080/",
          "height": 197
        },
        "outputId": "012f8a3d-442d-4b6a-c95b-d0c2e362ba64"
      },
      "source": [
        "for step in range(100): \n",
        "    optimizer.zero_grad()\n",
        "    hypothesis = model(X)\n",
        "\n",
        "    # 비용 함수\n",
        "    cost = criterion(hypothesis, Y)\n",
        "    cost.backward()\n",
        "    optimizer.step()\n",
        "\n",
        "    if step % 10 == 0: # 100번째 에포크마다 비용 출력\n",
        "        print(step, cost.item())"
      ],
      "execution_count": null,
      "outputs": [
        {
          "output_type": "stream",
          "text": [
            "0 0.7273974418640137\n",
            "10 0.695116400718689\n",
            "20 0.6937781572341919\n",
            "30 0.6933605670928955\n",
            "40 0.693223774433136\n",
            "50 0.69317626953125\n",
            "60 0.693158745765686\n",
            "70 0.6931519508361816\n",
            "80 0.693149209022522\n",
            "90 0.693148136138916\n"
          ],
          "name": "stdout"
        }
      ]
    },
    {
      "cell_type": "code",
      "metadata": {
        "id": "kstQJMiYbIRc",
        "colab_type": "code",
        "colab": {
          "base_uri": "https://localhost:8080/",
          "height": 251
        },
        "outputId": "e3ef2d1c-10e6-4619-db70-b761161bb039"
      },
      "source": [
        "# with 을 torch.no_grad() 와 같이 적용된다고 하면 업데이팅이 되지 않는다.\n",
        "with torch.no_grad():\n",
        "    hypothesis = model(X)\n",
        "    predicted = (hypothesis > 0.5).float() # 0.5 를 threshold 로 정하자.\n",
        "    accuracy = (predicted == Y).float().mean() \n",
        "    # float() 을 취함으로서 True -> 1 / Fasle -> 0\n",
        "    # mean() 을 취함으로서, accuracy 를 계산한다.\n",
        "    print('모델의 출력값(Hypothesis): ', hypothesis.detach().cpu().numpy())\n",
        "    print('모델의 예측값(Predicted): ', predicted.detach().cpu().numpy())\n",
        "    print('실제값(Y): ', Y.cpu().numpy())\n",
        "    print('정확도(Accuracy): ', accuracy.item())"
      ],
      "execution_count": null,
      "outputs": [
        {
          "output_type": "stream",
          "text": [
            "모델의 출력값(Hypothesis):  [[0.5007057 ]\n",
            " [0.5002256 ]\n",
            " [0.4999959 ]\n",
            " [0.49951577]]\n",
            "모델의 예측값(Predicted):  [[1.]\n",
            " [1.]\n",
            " [0.]\n",
            " [0.]]\n",
            "실제값(Y):  [[0.]\n",
            " [1.]\n",
            " [1.]\n",
            " [0.]]\n",
            "정확도(Accuracy):  0.5\n"
          ],
          "name": "stdout"
        }
      ]
    },
    {
      "cell_type": "markdown",
      "metadata": {
        "id": "k5k4PyIYZOe9",
        "colab_type": "text"
      },
      "source": [
        "# Model(다층 퍼셉트론) construct"
      ]
    },
    {
      "cell_type": "code",
      "metadata": {
        "id": "T-mC1-yRbcjP",
        "colab_type": "code",
        "colab": {}
      },
      "source": [
        "model = nn.Sequential(\n",
        "          nn.Linear(2, 10, bias=True), # input_layer = 2, hidden_layer1 = 10\n",
        "          nn.Sigmoid(),\n",
        "          nn.Linear(10, 10, bias=True), # hidden_layer1 = 10, hidden_layer2 = 10\n",
        "          nn.Sigmoid(),\n",
        "          nn.Linear(10, 10, bias=True), # hidden_layer2 = 10, hidden_layer3 = 10\n",
        "          nn.Sigmoid(),\n",
        "          nn.Linear(10, 1, bias=True), # hidden_layer3 = 10, output_layer = 1\n",
        "          nn.Sigmoid()).to(device)"
      ],
      "execution_count": null,
      "outputs": []
    },
    {
      "cell_type": "code",
      "metadata": {
        "id": "QJ5ocVwFbewD",
        "colab_type": "code",
        "colab": {}
      },
      "source": [
        "criterion = torch.nn.BCELoss().to(device)\n",
        "optimizer = torch.optim.SGD(model.parameters(), lr=1)  # modified learning rate from 0.1 to 1"
      ],
      "execution_count": null,
      "outputs": []
    },
    {
      "cell_type": "code",
      "metadata": {
        "id": "MxhMieOabv6-",
        "colab_type": "code",
        "colab": {
          "base_uri": "https://localhost:8080/",
          "height": 197
        },
        "outputId": "d25dc53c-c0cf-47b6-ba4b-a6c7c9c493b9"
      },
      "source": [
        "for epoch in range(1000):\n",
        "    optimizer.zero_grad()\n",
        "    # forward 연산\n",
        "    hypothesis = model(X)\n",
        "\n",
        "    # 비용 함수\n",
        "    cost = criterion(hypothesis, Y)\n",
        "    cost.backward()\n",
        "    optimizer.step()\n",
        "\n",
        "    # 100의 배수에 해당되는 에포크마다 비용을 출력\n",
        "    if epoch % 100 == 0:\n",
        "        print('epoch : {0:3d}   cost : {1:.4f}'.format(epoch, cost.item()))\n"
      ],
      "execution_count": null,
      "outputs": [
        {
          "output_type": "stream",
          "text": [
            "epoch :   0   cost : 0.0074\n",
            "epoch : 100   cost : 0.0045\n",
            "epoch : 200   cost : 0.0032\n",
            "epoch : 300   cost : 0.0024\n",
            "epoch : 400   cost : 0.0019\n",
            "epoch : 500   cost : 0.0016\n",
            "epoch : 600   cost : 0.0014\n",
            "epoch : 700   cost : 0.0012\n",
            "epoch : 800   cost : 0.0011\n",
            "epoch : 900   cost : 0.0009\n"
          ],
          "name": "stdout"
        }
      ]
    },
    {
      "cell_type": "code",
      "metadata": {
        "id": "QEiSHxwib0Gg",
        "colab_type": "code",
        "colab": {
          "base_uri": "https://localhost:8080/",
          "height": 251
        },
        "outputId": "e4502084-ac79-4250-c5f8-a5e1eb9bd421"
      },
      "source": [
        "with torch.no_grad():\n",
        "    hypothesis = model(X)\n",
        "    predicted = (hypothesis > 0.5).float()\n",
        "    accuracy = (predicted == Y).float().mean()\n",
        "    print('모델의 출력값(Hypothesis): ', hypothesis.detach().cpu().numpy())\n",
        "    print('모델의 예측값(Predicted): ', predicted.detach().cpu().numpy())\n",
        "    print('실제값(Y): ', Y.cpu().numpy())\n",
        "    print('정확도(Accuracy): ', accuracy.item())"
      ],
      "execution_count": null,
      "outputs": [
        {
          "output_type": "stream",
          "text": [
            "모델의 출력값(Hypothesis):  [[7.059432e-04]\n",
            " [9.990746e-01]\n",
            " [9.991103e-01]\n",
            " [8.872806e-04]]\n",
            "모델의 예측값(Predicted):  [[0.]\n",
            " [1.]\n",
            " [1.]\n",
            " [0.]]\n",
            "실제값(Y):  [[0.]\n",
            " [1.]\n",
            " [1.]\n",
            " [0.]]\n",
            "정확도(Accuracy):  1.0\n"
          ],
          "name": "stdout"
        }
      ]
    },
    {
      "cell_type": "code",
      "metadata": {
        "id": "x9DNyxwaciXK",
        "colab_type": "code",
        "colab": {}
      },
      "source": [
        ""
      ],
      "execution_count": null,
      "outputs": []
    }
  ]
}