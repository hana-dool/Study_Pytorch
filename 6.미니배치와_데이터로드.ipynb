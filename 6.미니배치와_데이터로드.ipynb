{
  "nbformat": 4,
  "nbformat_minor": 0,
  "metadata": {
    "colab": {
      "name": "미니배치와 데이터로드",
      "provenance": [],
      "authorship_tag": "ABX9TyMBa5h+oNFj6bwx8YVw+Pjm",
      "include_colab_link": true
    },
    "kernelspec": {
      "name": "python3",
      "display_name": "Python 3"
    }
  },
  "cells": [
    {
      "cell_type": "markdown",
      "metadata": {
        "id": "view-in-github",
        "colab_type": "text"
      },
      "source": [
        "<a href=\"https://colab.research.google.com/github/hana-dool/Pytorch/blob/master/6.%EB%AF%B8%EB%8B%88%EB%B0%B0%EC%B9%98%EC%99%80_%EB%8D%B0%EC%9D%B4%ED%84%B0%EB%A1%9C%EB%93%9C.ipynb\" target=\"_parent\"><img src=\"https://colab.research.google.com/assets/colab-badge.svg\" alt=\"Open In Colab\"/></a>"
      ]
    },
    {
      "cell_type": "code",
      "metadata": {
        "id": "YBlJmkp9AVIf",
        "colab_type": "code",
        "colab": {}
      },
      "source": [
        "import torch\n",
        "import torch.nn as nn\n",
        "import torch.nn.functional as F"
      ],
      "execution_count": null,
      "outputs": []
    },
    {
      "cell_type": "code",
      "metadata": {
        "id": "aAlpQHIcAc9I",
        "colab_type": "code",
        "colab": {}
      },
      "source": [
        "from torch.utils.data import TensorDataset # 텐서데이터셋\n",
        "from torch.utils.data import DataLoader # 데이터로더"
      ],
      "execution_count": null,
      "outputs": []
    },
    {
      "cell_type": "code",
      "metadata": {
        "id": "NEB02npHAkp8",
        "colab_type": "code",
        "colab": {}
      },
      "source": [
        "# TensorDataset 은 기본적으로 텐서를 입력으로 받는다.\n",
        "# 즉 텐서형태로 데이터를 정의해야만 한다."
      ],
      "execution_count": null,
      "outputs": []
    },
    {
      "cell_type": "code",
      "metadata": {
        "id": "Y2pk8p3UAfOn",
        "colab_type": "code",
        "colab": {}
      },
      "source": [
        "x_train  =  torch.FloatTensor([[73,  80,  75], \n",
        "                               [93,  88,  93], \n",
        "                               [89,  91,  90], \n",
        "                               [96,  98,  100],   \n",
        "                               [73,  66,  70]])  \n",
        "y_train  =  torch.FloatTensor([[152],  [185],  [180],  [196],  [142]])"
      ],
      "execution_count": null,
      "outputs": []
    },
    {
      "cell_type": "code",
      "metadata": {
        "id": "2nUf1KlFAjCG",
        "colab_type": "code",
        "colab": {}
      },
      "source": [
        "dataset = TensorDataset(x_train, y_train)"
      ],
      "execution_count": null,
      "outputs": []
    },
    {
      "cell_type": "code",
      "metadata": {
        "id": "_CvlcgeKAxZb",
        "colab_type": "code",
        "colab": {}
      },
      "source": [
        "# 파이토치의 데이터셋을 만들었다면 데이터로더를 사용 가능하다.\n",
        "# 데이터로더는 기본적으로 2개의 인자(데이터셋, 미니배치의 크기)\n",
        "# 미니배치의 크기는 2배수 (cpu/gpu 의 구조상 2배수가 계산속도면에서 좋다고 한다...?)\n",
        "# shuffle = True 를 선택하면 Epoch 마다 데이터셋을 섞어서 데이터가 학습되는 순서를 바꾼다.\n",
        "# 사람도 같은 문제지를 계속 풀면 어느순간 문제의 순서에 익숙해질 수 있다. (즉 데이터가 학습되는 순서에 익숙해져서 학습될수도..)\n",
        "# 그러므로 모델이 데이터셋의 순서에 익숙해지는것을 막기위해 이 옵션을 True 로 주는것을 권장한다."
      ],
      "execution_count": null,
      "outputs": []
    },
    {
      "cell_type": "code",
      "metadata": {
        "id": "Vx5m6ox3BJef",
        "colab_type": "code",
        "colab": {}
      },
      "source": [
        "dataloader = DataLoader(dataset, batch_size=2, shuffle=True)"
      ],
      "execution_count": null,
      "outputs": []
    },
    {
      "cell_type": "code",
      "metadata": {
        "id": "gwVhNKYBBb5u",
        "colab_type": "code",
        "colab": {}
      },
      "source": [
        "model = nn.Linear(3,1) # 모델설정\n",
        "optimizer = torch.optim.SGD(model.parameters(), lr=1e-5)  # 옵티마이저 설정"
      ],
      "execution_count": null,
      "outputs": []
    },
    {
      "cell_type": "code",
      "metadata": {
        "id": "bjbyOeu2BeUR",
        "colab_type": "code",
        "colab": {
          "base_uri": "https://localhost:8080/",
          "height": 1000
        },
        "outputId": "35d5f945-b2fd-42c8-b2b4-ebcef8eb50fb"
      },
      "source": [
        "nb_epochs = 20\n",
        "for epoch in range(nb_epochs + 1):\n",
        "  for batch_idx, samples in enumerate(dataloader):\n",
        "    # print(batch_idx)\n",
        "    # print(samples)\n",
        "    x_train, y_train = samples\n",
        "    # H(x) 계산\n",
        "    prediction = model(x_train)\n",
        "\n",
        "    # cost 계산\n",
        "    cost = F.mse_loss(prediction, y_train)\n",
        "\n",
        "    # cost로 H(x) 계산\n",
        "    optimizer.zero_grad()\n",
        "    cost.backward()\n",
        "    optimizer.step()\n",
        "\n",
        "    print('Epoch {:4d}/{} Batch {}/{} Cost: {:.6f}'.format(\n",
        "        epoch, nb_epochs, batch_idx+1, len(dataloader),\n",
        "        cost.item()\n",
        "        ))\n"
      ],
      "execution_count": null,
      "outputs": [
        {
          "output_type": "stream",
          "text": [
            "Epoch    0/20 Batch 1/3 Cost: 47921.164062\n",
            "Epoch    0/20 Batch 2/3 Cost: 6597.990234\n",
            "Epoch    0/20 Batch 3/3 Cost: 4932.269531\n",
            "Epoch    1/20 Batch 1/3 Cost: 963.085083\n",
            "Epoch    1/20 Batch 2/3 Cost: 306.178864\n",
            "Epoch    1/20 Batch 3/3 Cost: 114.130043\n",
            "Epoch    2/20 Batch 1/3 Cost: 35.196072\n",
            "Epoch    2/20 Batch 2/3 Cost: 13.005260\n",
            "Epoch    2/20 Batch 3/3 Cost: 0.072738\n",
            "Epoch    3/20 Batch 1/3 Cost: 5.337033\n",
            "Epoch    3/20 Batch 2/3 Cost: 5.619462\n",
            "Epoch    3/20 Batch 3/3 Cost: 1.394760\n",
            "Epoch    4/20 Batch 1/3 Cost: 5.538663\n",
            "Epoch    4/20 Batch 2/3 Cost: 1.677374\n",
            "Epoch    4/20 Batch 3/3 Cost: 6.179703\n",
            "Epoch    5/20 Batch 1/3 Cost: 3.578770\n",
            "Epoch    5/20 Batch 2/3 Cost: 2.547792\n",
            "Epoch    5/20 Batch 3/3 Cost: 8.053623\n",
            "Epoch    6/20 Batch 1/3 Cost: 4.360858\n",
            "Epoch    6/20 Batch 2/3 Cost: 3.575436\n",
            "Epoch    6/20 Batch 3/3 Cost: 2.445032\n",
            "Epoch    7/20 Batch 1/3 Cost: 2.385456\n",
            "Epoch    7/20 Batch 2/3 Cost: 2.033047\n",
            "Epoch    7/20 Batch 3/3 Cost: 10.968512\n",
            "Epoch    8/20 Batch 1/3 Cost: 4.351496\n",
            "Epoch    8/20 Batch 2/3 Cost: 2.103056\n",
            "Epoch    8/20 Batch 3/3 Cost: 4.234856\n",
            "Epoch    9/20 Batch 1/3 Cost: 0.693437\n",
            "Epoch    9/20 Batch 2/3 Cost: 10.075221\n",
            "Epoch    9/20 Batch 3/3 Cost: 2.104970\n",
            "Epoch   10/20 Batch 1/3 Cost: 6.867768\n",
            "Epoch   10/20 Batch 2/3 Cost: 4.542387\n",
            "Epoch   10/20 Batch 3/3 Cost: 0.683468\n",
            "Epoch   11/20 Batch 1/3 Cost: 5.792465\n",
            "Epoch   11/20 Batch 2/3 Cost: 2.325305\n",
            "Epoch   11/20 Batch 3/3 Cost: 1.729071\n",
            "Epoch   12/20 Batch 1/3 Cost: 7.587039\n",
            "Epoch   12/20 Batch 2/3 Cost: 3.183012\n",
            "Epoch   12/20 Batch 3/3 Cost: 1.821651\n",
            "Epoch   13/20 Batch 1/3 Cost: 6.142670\n",
            "Epoch   13/20 Batch 2/3 Cost: 2.412816\n",
            "Epoch   13/20 Batch 3/3 Cost: 2.275708\n",
            "Epoch   14/20 Batch 1/3 Cost: 0.223297\n",
            "Epoch   14/20 Batch 2/3 Cost: 10.090418\n",
            "Epoch   14/20 Batch 3/3 Cost: 3.582834\n",
            "Epoch   15/20 Batch 1/3 Cost: 0.416390\n",
            "Epoch   15/20 Batch 2/3 Cost: 6.370271\n",
            "Epoch   15/20 Batch 3/3 Cost: 4.541472\n",
            "Epoch   16/20 Batch 1/3 Cost: 3.169248\n",
            "Epoch   16/20 Batch 2/3 Cost: 5.862988\n",
            "Epoch   16/20 Batch 3/3 Cost: 3.212877\n",
            "Epoch   17/20 Batch 1/3 Cost: 8.450094\n",
            "Epoch   17/20 Batch 2/3 Cost: 3.670228\n",
            "Epoch   17/20 Batch 3/3 Cost: 0.506496\n",
            "Epoch   18/20 Batch 1/3 Cost: 8.593007\n",
            "Epoch   18/20 Batch 2/3 Cost: 3.595428\n",
            "Epoch   18/20 Batch 3/3 Cost: 0.492006\n",
            "Epoch   19/20 Batch 1/3 Cost: 5.804263\n",
            "Epoch   19/20 Batch 2/3 Cost: 1.154910\n",
            "Epoch   19/20 Batch 3/3 Cost: 6.271457\n",
            "Epoch   20/20 Batch 1/3 Cost: 3.226917\n",
            "Epoch   20/20 Batch 2/3 Cost: 5.279172\n",
            "Epoch   20/20 Batch 3/3 Cost: 3.102524\n"
          ],
          "name": "stdout"
        }
      ]
    },
    {
      "cell_type": "code",
      "metadata": {
        "id": "ZbOkc4DvBl9d",
        "colab_type": "code",
        "colab": {
          "base_uri": "https://localhost:8080/",
          "height": 35
        },
        "outputId": "312fad87-395f-4cec-e7bc-0f623e3cb91e"
      },
      "source": [
        "# 임의의 입력 [73, 80, 75]를 선언\n",
        "new_var =  torch.FloatTensor([[73, 80, 75]]) \n",
        "# 입력한 값 [73, 80, 75]에 대해서 예측값 y를 리턴받아서 pred_y에 저장\n",
        "pred_y = model(new_var) \n",
        "print(\"훈련 후 입력이 73, 80, 75일 때의 예측값 :\", pred_y) "
      ],
      "execution_count": null,
      "outputs": [
        {
          "output_type": "stream",
          "text": [
            "훈련 후 입력이 73, 80, 75일 때의 예측값 : tensor([[153.9664]], grad_fn=<AddmmBackward>)\n"
          ],
          "name": "stdout"
        }
      ]
    },
    {
      "cell_type": "code",
      "metadata": {
        "id": "sisMEhu1Bu1y",
        "colab_type": "code",
        "colab": {}
      },
      "source": [
        ""
      ],
      "execution_count": null,
      "outputs": []
    }
  ]
}