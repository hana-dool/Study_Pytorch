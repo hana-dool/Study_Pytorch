{
  "nbformat": 4,
  "nbformat_minor": 0,
  "metadata": {
    "colab": {
      "name": "Linear regression",
      "provenance": [],
      "collapsed_sections": [],
      "authorship_tag": "ABX9TyNmzIyu0880uPNHsQDOthTa"
    },
    "kernelspec": {
      "name": "python3",
      "display_name": "Python 3"
    }
  },
  "cells": [
    {
      "cell_type": "code",
      "metadata": {
        "id": "OppeqQLGPDZC",
        "colab_type": "code",
        "colab": {}
      },
      "source": [
        "import torch\n",
        "import torch.nn as nn\n",
        "import torch.nn.functional as F\n",
        "import torch.optim as optm"
      ],
      "execution_count": 1,
      "outputs": []
    },
    {
      "cell_type": "code",
      "metadata": {
        "id": "g4h0Nx96PPdC",
        "colab_type": "code",
        "colab": {
          "base_uri": "https://localhost:8080/",
          "height": 35
        },
        "outputId": "4fa58b36-6d5f-41cb-f655-b4ec3f123244"
      },
      "source": [
        "torch.manual_seed(1)"
      ],
      "execution_count": 13,
      "outputs": [
        {
          "output_type": "execute_result",
          "data": {
            "text/plain": [
              "<torch._C.Generator at 0x7f5dedcbfdb0>"
            ]
          },
          "metadata": {
            "tags": []
          },
          "execution_count": 13
        }
      ]
    },
    {
      "cell_type": "code",
      "metadata": {
        "id": "Kki7DKB7RM1h",
        "colab_type": "code",
        "colab": {}
      },
      "source": [
        "# 변수 선언"
      ],
      "execution_count": 14,
      "outputs": []
    },
    {
      "cell_type": "code",
      "metadata": {
        "id": "uVF7M_VrPSzl",
        "colab_type": "code",
        "colab": {}
      },
      "source": [
        "X_train = torch.FloatTensor([[1],[2],[3]])"
      ],
      "execution_count": 15,
      "outputs": []
    },
    {
      "cell_type": "code",
      "metadata": {
        "id": "RP53YC_jPiXv",
        "colab_type": "code",
        "colab": {}
      },
      "source": [
        "y_train = torch.FloatTensor([[2],[4],[6]])"
      ],
      "execution_count": 16,
      "outputs": []
    },
    {
      "cell_type": "code",
      "metadata": {
        "id": "tzozhPL4Pqch",
        "colab_type": "code",
        "colab": {
          "base_uri": "https://localhost:8080/",
          "height": 71
        },
        "outputId": "b177ed0d-dd98-48b4-ffdb-48257f6c3bf3"
      },
      "source": [
        "print(X_train)"
      ],
      "execution_count": 17,
      "outputs": [
        {
          "output_type": "stream",
          "text": [
            "tensor([[1.],\n",
            "        [2.],\n",
            "        [3.]])\n"
          ],
          "name": "stdout"
        }
      ]
    },
    {
      "cell_type": "code",
      "metadata": {
        "id": "n0uFgpUOP80g",
        "colab_type": "code",
        "colab": {
          "base_uri": "https://localhost:8080/",
          "height": 35
        },
        "outputId": "e89abc8f-5f91-4c61-ff13-14fac62ea53a"
      },
      "source": [
        "X_train.shape"
      ],
      "execution_count": 18,
      "outputs": [
        {
          "output_type": "execute_result",
          "data": {
            "text/plain": [
              "torch.Size([3, 1])"
            ]
          },
          "metadata": {
            "tags": []
          },
          "execution_count": 18
        }
      ]
    },
    {
      "cell_type": "code",
      "metadata": {
        "id": "YFJVcmhNQAjf",
        "colab_type": "code",
        "colab": {
          "base_uri": "https://localhost:8080/",
          "height": 35
        },
        "outputId": "1a7b02f7-9ce2-4ec9-87ec-fdaaf9d6ae04"
      },
      "source": [
        "y_train.shape"
      ],
      "execution_count": 19,
      "outputs": [
        {
          "output_type": "execute_result",
          "data": {
            "text/plain": [
              "torch.Size([3, 1])"
            ]
          },
          "metadata": {
            "tags": []
          },
          "execution_count": 19
        }
      ]
    },
    {
      "cell_type": "markdown",
      "metadata": {
        "id": "vHiyuYIDRYHU",
        "colab_type": "text"
      },
      "source": [
        "# 가중치와 편향의 초기화"
      ]
    },
    {
      "cell_type": "code",
      "metadata": {
        "id": "Qa5AzJ09RbQA",
        "colab_type": "code",
        "colab": {}
      },
      "source": [
        "# 가중치를 0 으로 두고 (zeros)\n",
        "# 학습을 통해 값이 변경되는 변수임을 명시한다. (requires_grad = True 임을 통해서)\n",
        "# size 가 1 인 zeros 의 tensor 를 형성하자.\n",
        "W = torch.zeros(1,requires_grad=True) "
      ],
      "execution_count": 31,
      "outputs": []
    },
    {
      "cell_type": "code",
      "metadata": {
        "id": "I-YhBir8R2xl",
        "colab_type": "code",
        "colab": {
          "base_uri": "https://localhost:8080/",
          "height": 35
        },
        "outputId": "64f895ca-bfd1-44f9-bafe-b8d20887d9e4"
      },
      "source": [
        "# 가중치 W 가 0 으로 초기화되었으므로, 0이 출력된 모습을 볼 수 있다.\n",
        "# requires_grad 가 True 로 주어진 것을 통해 학습을 통해 계속 값이 변하는 변수임을 명시한다.\n",
        "print(W)"
      ],
      "execution_count": 32,
      "outputs": [
        {
          "output_type": "stream",
          "text": [
            "tensor([0.], requires_grad=True)\n"
          ],
          "name": "stdout"
        }
      ]
    },
    {
      "cell_type": "code",
      "metadata": {
        "id": "WYmGp9OAR_7A",
        "colab_type": "code",
        "colab": {}
      },
      "source": [
        "# 편향(b) 역시 0으로 초기화하고, 학습을 통해서 변하는 변수임을 명시해주자.\n",
        "# size 가 1 인 zero 의 tensor 를 형성하자.\n",
        "b = torch.zeros(1,requires_grad=True)"
      ],
      "execution_count": 33,
      "outputs": []
    },
    {
      "cell_type": "code",
      "metadata": {
        "id": "Z5ppYlK5STGI",
        "colab_type": "code",
        "colab": {
          "base_uri": "https://localhost:8080/",
          "height": 35
        },
        "outputId": "10c7fd9e-5b1e-414e-b802-de907d503271"
      },
      "source": [
        "print(b)"
      ],
      "execution_count": 34,
      "outputs": [
        {
          "output_type": "stream",
          "text": [
            "tensor([0.], requires_grad=True)\n"
          ],
          "name": "stdout"
        }
      ]
    },
    {
      "cell_type": "markdown",
      "metadata": {
        "id": "dTLz-ypmgOZu",
        "colab_type": "text"
      },
      "source": [
        "# 가설 세우기"
      ]
    },
    {
      "cell_type": "code",
      "metadata": {
        "id": "Bo3vti1vg8Iz",
        "colab_type": "code",
        "colab": {}
      },
      "source": [
        "y_hat = X_train*W + b"
      ],
      "execution_count": 45,
      "outputs": []
    },
    {
      "cell_type": "code",
      "metadata": {
        "id": "3hkD-fXGik1j",
        "colab_type": "code",
        "colab": {
          "base_uri": "https://localhost:8080/",
          "height": 71
        },
        "outputId": "2fb8675a-7d88-41fb-ac70-bbe2e66770fe"
      },
      "source": [
        "print(y_hat) # 처음의 값이야 아직 gradient method 를 쓰지 않아서 0,0,0 이다."
      ],
      "execution_count": 46,
      "outputs": [
        {
          "output_type": "stream",
          "text": [
            "tensor([[0.],\n",
            "        [0.],\n",
            "        [0.]], grad_fn=<AddBackward0>)\n"
          ],
          "name": "stdout"
        }
      ]
    },
    {
      "cell_type": "markdown",
      "metadata": {
        "id": "NYNLH9XSifkF",
        "colab_type": "text"
      },
      "source": [
        "# 비용함수선언하기"
      ]
    },
    {
      "cell_type": "code",
      "metadata": {
        "id": "_lWbo4bmjBCz",
        "colab_type": "code",
        "colab": {}
      },
      "source": [
        "cost = torch.mean((y_hat - y_train)**2)\n",
        "# cost 를 정해준다. 이 떄의 cost 는 mse 를 사용한다."
      ],
      "execution_count": 48,
      "outputs": []
    },
    {
      "cell_type": "code",
      "metadata": {
        "id": "LkdyOW9ijUff",
        "colab_type": "code",
        "colab": {
          "base_uri": "https://localhost:8080/",
          "height": 89
        },
        "outputId": "25e8a013-b36a-4b70-b64f-aa726f99483f"
      },
      "source": [
        "print(cost) \n",
        "y_train"
      ],
      "execution_count": 50,
      "outputs": [
        {
          "output_type": "stream",
          "text": [
            "tensor(18.6667, grad_fn=<MeanBackward0>)\n"
          ],
          "name": "stdout"
        },
        {
          "output_type": "execute_result",
          "data": {
            "text/plain": [
              "tensor([[2.],\n",
              "        [4.],\n",
              "        [6.]])"
            ]
          },
          "metadata": {
            "tags": []
          },
          "execution_count": 50
        }
      ]
    },
    {
      "cell_type": "code",
      "metadata": {
        "id": "_xMDkYgljZpt",
        "colab_type": "code",
        "colab": {
          "base_uri": "https://localhost:8080/",
          "height": 35
        },
        "outputId": "6d693e32-a477-49d7-8dba-6c108706d986"
      },
      "source": [
        "(4 + 16 + 36)/3\n",
        "# 아직 gradient descent method 를 통해서 제대로 계산을 해주지 않았기 떄문에 값은 그냥 4+16+36 / 3 = 18.666 의 값이 나왔다."
      ],
      "execution_count": 53,
      "outputs": [
        {
          "output_type": "execute_result",
          "data": {
            "text/plain": [
              "18.666666666666668"
            ]
          },
          "metadata": {
            "tags": []
          },
          "execution_count": 53
        }
      ]
    },
    {
      "cell_type": "markdown",
      "metadata": {
        "id": "BiG9UqYljhAt",
        "colab_type": "text"
      },
      "source": [
        "# 경사 하강법 구현하기\n",
        "\n"
      ]
    },
    {
      "cell_type": "code",
      "metadata": {
        "id": "Bq1Wqv5cjy6A",
        "colab_type": "code",
        "colab": {}
      },
      "source": [
        "optimizer = torch.optim.SGD([W,b] ,lr=0.01)\n",
        "# lr 은 학습률\n",
        "# 학습 대상인 W,b 가 SGD 의 입력이 된다."
      ],
      "execution_count": 56,
      "outputs": []
    },
    {
      "cell_type": "code",
      "metadata": {
        "id": "tm2gjV1rj7dr",
        "colab_type": "code",
        "colab": {}
      },
      "source": [
        "# optimizer.zero_grad() 를 실행함으로서 미분을 통해 얻은 기울기를 0으로 초기화한다.\n",
        "# 파이토치는 기울기를 계속 누적(전에 구한값이 초기화 되지 않고 계속 남아있음) 시키려고 하기 떄문에 초기화시키는 작업이 꼭 필요하다.\n",
        "# 기울기를 초기화 해야함 새로운 가중치 편향에 대하여 새로운 기울기를 구할 수 있다.\n",
        "# gradient 를 0으로 초기화\n",
        "optimizer.zero_grad()"
      ],
      "execution_count": 58,
      "outputs": []
    },
    {
      "cell_type": "code",
      "metadata": {
        "id": "k5MvVqcBr5ST",
        "colab_type": "code",
        "colab": {}
      },
      "source": [
        "# cost.backward() 를 호출하면 가중치 W 와 편향 b 에 대한 기울기가 계산된다.\n",
        "cost.backward()"
      ],
      "execution_count": 59,
      "outputs": []
    },
    {
      "cell_type": "code",
      "metadata": {
        "id": "Chcsaz7psUNc",
        "colab_type": "code",
        "colab": {}
      },
      "source": [
        "# 그 다음에는 우리가 정한 경사하강법 optimizer 의 step 함수를 호출하여, 인수로 들어갔던 W 와 b 에서 리턴되는 변수들의 기울기에 학습률 0.01 을 곱하여 뺴줌으로서 업데이트된다.\n",
        "# W 와 b를 업데이트\n",
        "optimizer.step()"
      ],
      "execution_count": 61,
      "outputs": []
    },
    {
      "cell_type": "markdown",
      "metadata": {
        "id": "eiWXKo56soJz",
        "colab_type": "text"
      },
      "source": [
        "# 전체 code"
      ]
    },
    {
      "cell_type": "code",
      "metadata": {
        "id": "czODqTDNs9tg",
        "colab_type": "code",
        "colab": {
          "base_uri": "https://localhost:8080/",
          "height": 395
        },
        "outputId": "bf96a4ad-6348-4060-c8b5-c40ae844ba77"
      },
      "source": [
        "# 데이터\n",
        "X_train = torch.FloatTensor([[1],[2],[3]])\n",
        "y_train = torch.FloatTensor([[2],[4],[6]])\n",
        "\n",
        "# 모델 초기화\n",
        "W = torch.zeros(1, requires_grad=True)\n",
        "b = torch.zeros(1, requires_grad=True)\n",
        "\n",
        "# optimizer 설정\n",
        "optimizer = torch.optim.SGD([W,b],lr=0.05)\n",
        "\n",
        "# epochs 설정\n",
        "n_epochs = 2000\n",
        "\n",
        "for epoch in range(n_epochs +1 ) :\n",
        "\n",
        "    # y_hat 계산\n",
        "    y_hat = X_train * W + b\n",
        "    \n",
        "    # cost 계산\n",
        "    cost = torch.mean((y_hat-y_train)**2)\n",
        "\n",
        "    # cost 를 토대로 update\n",
        "    optimizer.zero_grad()\n",
        "    cost.backward()\n",
        "    optimizer.step()\n",
        "\n",
        "    # 100번마다 기록 출력\n",
        "    if epoch % 100 == 0:\n",
        "        print('Epoch {:4d}/{} W: {:.3f}, b: {:.3f} Cost: {:.6f}'.format(\n",
        "            epoch, n_epochs, W.item(), b.item(), cost.item()))\n"
      ],
      "execution_count": 67,
      "outputs": [
        {
          "output_type": "stream",
          "text": [
            "Epoch    0/2000 W: 0.933, b: 0.400 Cost: 18.666666\n",
            "Epoch  100/2000 W: 1.904, b: 0.217 Cost: 0.006942\n",
            "Epoch  200/2000 W: 1.971, b: 0.065 Cost: 0.000618\n",
            "Epoch  300/2000 W: 1.991, b: 0.019 Cost: 0.000055\n",
            "Epoch  400/2000 W: 1.997, b: 0.006 Cost: 0.000005\n",
            "Epoch  500/2000 W: 1.999, b: 0.002 Cost: 0.000000\n",
            "Epoch  600/2000 W: 2.000, b: 0.001 Cost: 0.000000\n",
            "Epoch  700/2000 W: 2.000, b: 0.000 Cost: 0.000000\n",
            "Epoch  800/2000 W: 2.000, b: 0.000 Cost: 0.000000\n",
            "Epoch  900/2000 W: 2.000, b: 0.000 Cost: 0.000000\n",
            "Epoch 1000/2000 W: 2.000, b: 0.000 Cost: 0.000000\n",
            "Epoch 1100/2000 W: 2.000, b: 0.000 Cost: 0.000000\n",
            "Epoch 1200/2000 W: 2.000, b: 0.000 Cost: 0.000000\n",
            "Epoch 1300/2000 W: 2.000, b: 0.000 Cost: 0.000000\n",
            "Epoch 1400/2000 W: 2.000, b: 0.000 Cost: 0.000000\n",
            "Epoch 1500/2000 W: 2.000, b: 0.000 Cost: 0.000000\n",
            "Epoch 1600/2000 W: 2.000, b: 0.000 Cost: 0.000000\n",
            "Epoch 1700/2000 W: 2.000, b: 0.000 Cost: 0.000000\n",
            "Epoch 1800/2000 W: 2.000, b: 0.000 Cost: 0.000000\n",
            "Epoch 1900/2000 W: 2.000, b: 0.000 Cost: 0.000000\n",
            "Epoch 2000/2000 W: 2.000, b: 0.000 Cost: 0.000000\n"
          ],
          "name": "stdout"
        }
      ]
    },
    {
      "cell_type": "code",
      "metadata": {
        "id": "Q3JXCVCjv-fH",
        "colab_type": "code",
        "colab": {}
      },
      "source": [
        "# 최종 훈련 결과를 보면 최적의 기울기 W 는 2에 가깝고 b 는 0 에 가까운 것을 볼 수 있다.\n",
        "# 우리 데이터의 관계를 생각해보면, 제대로 정답을 찾은것 같다."
      ],
      "execution_count": 68,
      "outputs": []
    },
    {
      "cell_type": "markdown",
      "metadata": {
        "id": "QffZ5nzLxKnd",
        "colab_type": "text"
      },
      "source": [
        "# optimizer.zero_grad() 가 필요한 이유"
      ]
    },
    {
      "cell_type": "code",
      "metadata": {
        "id": "EmdFNcP1xO8y",
        "colab_type": "code",
        "colab": {}
      },
      "source": [
        "# 파이토치는 미분을 통해 얻은 기울기를 이전에 기울기 값에 누적시키는 특징이 있다."
      ],
      "execution_count": 69,
      "outputs": []
    },
    {
      "cell_type": "code",
      "metadata": {
        "id": "wVojHnOixUe7",
        "colab_type": "code",
        "colab": {
          "base_uri": "https://localhost:8080/",
          "height": 395
        },
        "outputId": "e5818536-3428-488a-ab79-abf090a37794"
      },
      "source": [
        "W = torch.tensor(2.0,requires_grad=True)\n",
        "\n",
        "n_epochs = 20\n",
        "for epoch in range(n_epochs + 1):\n",
        "    z = 2*W\n",
        "    z.backward()\n",
        "    print('수식을 w 로 미분한 값 : {}'.format(W.grad)) "
      ],
      "execution_count": 73,
      "outputs": [
        {
          "output_type": "stream",
          "text": [
            "수식을 w 로 미분한 값 : 2.0\n",
            "수식을 w 로 미분한 값 : 4.0\n",
            "수식을 w 로 미분한 값 : 6.0\n",
            "수식을 w 로 미분한 값 : 8.0\n",
            "수식을 w 로 미분한 값 : 10.0\n",
            "수식을 w 로 미분한 값 : 12.0\n",
            "수식을 w 로 미분한 값 : 14.0\n",
            "수식을 w 로 미분한 값 : 16.0\n",
            "수식을 w 로 미분한 값 : 18.0\n",
            "수식을 w 로 미분한 값 : 20.0\n",
            "수식을 w 로 미분한 값 : 22.0\n",
            "수식을 w 로 미분한 값 : 24.0\n",
            "수식을 w 로 미분한 값 : 26.0\n",
            "수식을 w 로 미분한 값 : 28.0\n",
            "수식을 w 로 미분한 값 : 30.0\n",
            "수식을 w 로 미분한 값 : 32.0\n",
            "수식을 w 로 미분한 값 : 34.0\n",
            "수식을 w 로 미분한 값 : 36.0\n",
            "수식을 w 로 미분한 값 : 38.0\n",
            "수식을 w 로 미분한 값 : 40.0\n",
            "수식을 w 로 미분한 값 : 42.0\n"
          ],
          "name": "stdout"
        }
      ]
    },
    {
      "cell_type": "code",
      "metadata": {
        "id": "6FpZXU0jxqXX",
        "colab_type": "code",
        "colab": {}
      },
      "source": [
        "# 계속해서 미분값인 2가 누적되고 있다! \n",
        "# 그렇기 떄문에 중간중간 optimizer.zero_grad() 를 통해서 미분값을 계속 0으로 초기화 시켜주어야한다."
      ],
      "execution_count": 74,
      "outputs": []
    },
    {
      "cell_type": "code",
      "metadata": {
        "id": "s3p29mUSyVXo",
        "colab_type": "code",
        "colab": {}
      },
      "source": [
        ""
      ],
      "execution_count": null,
      "outputs": []
    }
  ]
}