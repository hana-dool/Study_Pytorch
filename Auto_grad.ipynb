{
  "nbformat": 4,
  "nbformat_minor": 0,
  "metadata": {
    "colab": {
      "name": "Auto grad",
      "provenance": [],
      "authorship_tag": "ABX9TyO3qJA57edCX/8vHZGgDg3c",
      "include_colab_link": true
    },
    "kernelspec": {
      "name": "python3",
      "display_name": "Python 3"
    }
  },
  "cells": [
    {
      "cell_type": "markdown",
      "metadata": {
        "id": "view-in-github",
        "colab_type": "text"
      },
      "source": [
        "<a href=\"https://colab.research.google.com/github/hana-dool/Pytorch/blob/master/Auto_grad.ipynb\" target=\"_parent\"><img src=\"https://colab.research.google.com/assets/colab-badge.svg\" alt=\"Open In Colab\"/></a>"
      ]
    },
    {
      "cell_type": "code",
      "metadata": {
        "id": "CL8hUV-4Yyr3",
        "colab_type": "code",
        "colab": {}
      },
      "source": [
        "import torch"
      ],
      "execution_count": 1,
      "outputs": []
    },
    {
      "cell_type": "markdown",
      "metadata": {
        "id": "XU-s2LjEY4Uk",
        "colab_type": "text"
      },
      "source": [
        "자동 미분에 대해서 이해해보자."
      ]
    },
    {
      "cell_type": "code",
      "metadata": {
        "id": "GPSFl9OGY8gC",
        "colab_type": "code",
        "colab": {}
      },
      "source": [
        "# require_grad = 텐서에 대한 기울기를 저장하겠다는 의미\n",
        "# 2.0 = 2 에서의 기울기!\n",
        "w = torch.tensor(2.0,requires_grad=True)"
      ],
      "execution_count": 6,
      "outputs": []
    },
    {
      "cell_type": "code",
      "metadata": {
        "id": "H7esQirOZP0Y",
        "colab_type": "code",
        "colab": {}
      },
      "source": [
        "y = w**2\n",
        "z = 2*y + 5"
      ],
      "execution_count": 7,
      "outputs": []
    },
    {
      "cell_type": "code",
      "metadata": {
        "id": "wYJWtnHMZTce",
        "colab_type": "code",
        "colab": {}
      },
      "source": [
        "z.backward()\n",
        "# w 에 대해서 미분하기 (backward 를 하면) requires_grad=True 를 선언한 것에 대해서 미분을 해준 후, 그 값을(2) 넣어준다."
      ],
      "execution_count": 8,
      "outputs": []
    },
    {
      "cell_type": "code",
      "metadata": {
        "id": "wK_C9UqqZZvv",
        "colab_type": "code",
        "colab": {
          "base_uri": "https://localhost:8080/",
          "height": 35
        },
        "outputId": "30bbd6cc-fb6e-4547-bfc5-5ff611988eb6"
      },
      "source": [
        "w.grad"
      ],
      "execution_count": 9,
      "outputs": [
        {
          "output_type": "execute_result",
          "data": {
            "text/plain": [
              "tensor(8.)"
            ]
          },
          "metadata": {
            "tags": []
          },
          "execution_count": 9
        }
      ]
    },
    {
      "cell_type": "code",
      "metadata": {
        "id": "jQsjzsH3aFlP",
        "colab_type": "code",
        "colab": {}
      },
      "source": [
        ""
      ],
      "execution_count": null,
      "outputs": []
    }
  ]
}